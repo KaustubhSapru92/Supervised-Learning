{
 "cells": [
  {
   "cell_type": "code",
   "execution_count": 7,
   "metadata": {},
   "outputs": [],
   "source": [
    "import pandas as pd\n",
    "#dataset = pd.read_csv('C:\\\\Users\\\\lenovo\\\\Downloads\\\\MIS - G1010 for Python - Sheet1.csv')"
   ]
  },
  {
   "cell_type": "code",
   "execution_count": 2,
   "metadata": {},
   "outputs": [
    {
     "data": {
      "text/html": [
       "<div>\n",
       "<style scoped>\n",
       "    .dataframe tbody tr th:only-of-type {\n",
       "        vertical-align: middle;\n",
       "    }\n",
       "\n",
       "    .dataframe tbody tr th {\n",
       "        vertical-align: top;\n",
       "    }\n",
       "\n",
       "    .dataframe thead th {\n",
       "        text-align: right;\n",
       "    }\n",
       "</style>\n",
       "<table border=\"1\" class=\"dataframe\">\n",
       "  <thead>\n",
       "    <tr style=\"text-align: right;\">\n",
       "      <th></th>\n",
       "      <th>Respondents</th>\n",
       "      <th>Age Bracket</th>\n",
       "      <th>Gender</th>\n",
       "      <th>Educational Qualification</th>\n",
       "      <th>Satisfaction with Online Education</th>\n",
       "      <th>Likely to Recommend</th>\n",
       "      <th>Advantages</th>\n",
       "      <th>Effect(Better or Worse)</th>\n",
       "      <th>Class (In-Classroom/Online)</th>\n",
       "      <th>Comments</th>\n",
       "    </tr>\n",
       "  </thead>\n",
       "  <tbody>\n",
       "    <tr>\n",
       "      <th>0</th>\n",
       "      <td>1</td>\n",
       "      <td>25-34</td>\n",
       "      <td>M</td>\n",
       "      <td>Bachelor's Degree</td>\n",
       "      <td>5</td>\n",
       "      <td>5</td>\n",
       "      <td>120</td>\n",
       "      <td>4</td>\n",
       "      <td>0</td>\n",
       "      <td>NaN</td>\n",
       "    </tr>\n",
       "    <tr>\n",
       "      <th>1</th>\n",
       "      <td>2</td>\n",
       "      <td>25-34</td>\n",
       "      <td>M</td>\n",
       "      <td>Bachelor's Degree</td>\n",
       "      <td>3</td>\n",
       "      <td>3</td>\n",
       "      <td>24</td>\n",
       "      <td>2</td>\n",
       "      <td>0</td>\n",
       "      <td>NaN</td>\n",
       "    </tr>\n",
       "    <tr>\n",
       "      <th>2</th>\n",
       "      <td>3</td>\n",
       "      <td>25-34</td>\n",
       "      <td>M</td>\n",
       "      <td>Bachelor's Degree</td>\n",
       "      <td>4</td>\n",
       "      <td>4</td>\n",
       "      <td>2</td>\n",
       "      <td>3</td>\n",
       "      <td>1</td>\n",
       "      <td>NaN</td>\n",
       "    </tr>\n",
       "    <tr>\n",
       "      <th>3</th>\n",
       "      <td>4</td>\n",
       "      <td>18-24</td>\n",
       "      <td>M</td>\n",
       "      <td>Doctrate</td>\n",
       "      <td>1</td>\n",
       "      <td>2</td>\n",
       "      <td>2</td>\n",
       "      <td>4</td>\n",
       "      <td>0</td>\n",
       "      <td>NaN</td>\n",
       "    </tr>\n",
       "    <tr>\n",
       "      <th>4</th>\n",
       "      <td>5</td>\n",
       "      <td>25-34</td>\n",
       "      <td>F</td>\n",
       "      <td>Master's</td>\n",
       "      <td>2</td>\n",
       "      <td>3</td>\n",
       "      <td>6</td>\n",
       "      <td>4</td>\n",
       "      <td>0</td>\n",
       "      <td>NaN</td>\n",
       "    </tr>\n",
       "  </tbody>\n",
       "</table>\n",
       "</div>"
      ],
      "text/plain": [
       "   Respondents  Age Bracket Gender Educational Qualification  \\\n",
       "0             1       25-34      M         Bachelor's Degree   \n",
       "1             2       25-34      M         Bachelor's Degree   \n",
       "2             3       25-34      M         Bachelor's Degree   \n",
       "3             4       18-24      M                  Doctrate   \n",
       "4             5       25-34      F                  Master's   \n",
       "\n",
       "   Satisfaction with Online Education  Likely to Recommend  Advantages  \\\n",
       "0                                   5                    5         120   \n",
       "1                                   3                    3          24   \n",
       "2                                   4                    4           2   \n",
       "3                                   1                    2           2   \n",
       "4                                   2                    3           6   \n",
       "\n",
       "   Effect(Better or Worse)  Class (In-Classroom/Online)  Comments  \n",
       "0                        4                            0       NaN  \n",
       "1                        2                            0       NaN  \n",
       "2                        3                            1       NaN  \n",
       "3                        4                            0       NaN  \n",
       "4                        4                            0       NaN  "
      ]
     },
     "execution_count": 2,
     "metadata": {},
     "output_type": "execute_result"
    }
   ],
   "source": [
    "dataset.head()"
   ]
  },
  {
   "cell_type": "code",
   "execution_count": 3,
   "metadata": {},
   "outputs": [],
   "source": [
    "A = dataset.iloc[:,4:9]"
   ]
  },
  {
   "cell_type": "code",
   "execution_count": 4,
   "metadata": {},
   "outputs": [],
   "source": [
    "import numpy as np\n",
    "A\n",
    "A1 = np.asarray(A)"
   ]
  },
  {
   "cell_type": "code",
   "execution_count": 5,
   "metadata": {},
   "outputs": [
    {
     "data": {
      "text/plain": [
       "array([[  5,   5, 120,   4],\n",
       "       [  3,   3,  24,   2],\n",
       "       [  4,   4,   2,   3],\n",
       "       [  1,   2,   2,   4],\n",
       "       [  2,   3,   6,   4],\n",
       "       [  2,   5,   1,   1],\n",
       "       [  4,   4,   2,   2],\n",
       "       [  2,   3,   6,   3],\n",
       "       [  3,   3,  20,   3],\n",
       "       [  4,   4,  12,   4],\n",
       "       [  4,   3,  24,   5],\n",
       "       [  2,   1,   6,   2],\n",
       "       [  3,   3,  12,   3],\n",
       "       [  4,   5,   3,   4],\n",
       "       [  3,   3,   2,   4],\n",
       "       [  3,   2,  12,   3],\n",
       "       [  1,   1,   2,   1],\n",
       "       [  2,   2,   2,   3],\n",
       "       [  3,   3,   4,   4],\n",
       "       [  5,   5,  60,   5],\n",
       "       [  1,   2,   2,   5],\n",
       "       [  3,   2,   5,   2],\n",
       "       [  5,   5,   5,   2],\n",
       "       [  3,   3,  15,   2],\n",
       "       [  5,   5,   5,   4],\n",
       "       [  4,   3,  24,   2],\n",
       "       [  4,   4,   4,   4],\n",
       "       [  3,   3,  24,   4],\n",
       "       [  3,   3,   8,   3],\n",
       "       [  3,   3,  12,   3],\n",
       "       [  3,   3,   2,   1],\n",
       "       [  5,   4,  24,   2],\n",
       "       [  3,   4,  12,   5],\n",
       "       [  2,   2,  24,   2],\n",
       "       [  3,   3,  12,   4],\n",
       "       [  4,   4,  12,   3],\n",
       "       [  2,   1,   1,   2],\n",
       "       [  4,   3,   2,   3],\n",
       "       [  1,   1,   2,   3],\n",
       "       [  2,   3,  24,   2],\n",
       "       [  4,   5, 120,   4],\n",
       "       [  5,   5, 120,   5],\n",
       "       [  3,   2,  12,   2],\n",
       "       [  3,   3,  24,   4],\n",
       "       [  3,   3,   2,   2],\n",
       "       [  1,   1,   1,   2],\n",
       "       [  2,   2,  24,   4],\n",
       "       [  3,   3,   8,   4],\n",
       "       [  3,   4,   6,   4],\n",
       "       [  3,   4,   6,   4],\n",
       "       [  2,   1,   1,   1],\n",
       "       [  3,   3,   2,   2],\n",
       "       [  3,   3,  24,   2],\n",
       "       [  3,   3,   1,   2],\n",
       "       [  4,   4,  12,   4],\n",
       "       [  3,   3,   8,   5],\n",
       "       [  4,   4,  24,   3],\n",
       "       [  4,   4,  24,   4],\n",
       "       [  4,   4,  24,   4],\n",
       "       [  3,   3,   6,   3],\n",
       "       [  3,   3,   6,   1],\n",
       "       [  3,   3,  12,   4],\n",
       "       [  3,   2,   6,   2],\n",
       "       [  3,   3,  12,   4],\n",
       "       [  5,   5,  12,   5],\n",
       "       [  3,   3,   6,   3],\n",
       "       [  4,   3,   6,   3],\n",
       "       [  4,   5,   2,   3],\n",
       "       [  3,   4,   4,   4],\n",
       "       [  3,   3,  24,   4],\n",
       "       [  3,   3,  24,   4],\n",
       "       [  3,   3,   2,   2],\n",
       "       [  4,   4,   2,   3],\n",
       "       [  4,   4,   5,   4],\n",
       "       [  4,   4,   8,   3],\n",
       "       [  5,   4,   2,   4],\n",
       "       [  5,   5,  12,   5],\n",
       "       [  3,   3,   2,   2],\n",
       "       [  2,   4,   6,   4],\n",
       "       [  4,   4,  24,   4],\n",
       "       [  3,   1,  12,   3],\n",
       "       [  3,   4,   4,   4],\n",
       "       [  2,   2,   6,   4],\n",
       "       [  3,   4,  24,   2],\n",
       "       [  2,   1,   2,   1],\n",
       "       [  2,   2,   2,   3],\n",
       "       [  5,   4,   2,   4],\n",
       "       [  4,   4,  24,   3],\n",
       "       [  3,   3,  24,   2]], dtype=int64)"
      ]
     },
     "execution_count": 5,
     "metadata": {},
     "output_type": "execute_result"
    }
   ],
   "source": [
    "y = dataset.iloc[:,8]\n",
    "y = np.asarray(y)\n",
    "y\n",
    "x = dataset.iloc[:,4:8]\n",
    "x = np.asarray(x)\n",
    "x"
   ]
  },
  {
   "cell_type": "code",
   "execution_count": 6,
   "metadata": {},
   "outputs": [],
   "source": [
    "from sklearn.model_selection import train_test_split\n",
    "X_train, X_test, y_train, y_test = train_test_split(x, y, test_size=0.3, random_state=0)"
   ]
  },
  {
   "cell_type": "code",
   "execution_count": 7,
   "metadata": {},
   "outputs": [
    {
     "name": "stdout",
     "output_type": "stream",
     "text": [
      "[[  4   4  24   4]\n",
      " [  2   2   6   4]\n",
      " [  1   2   2   4]\n",
      " [  3   2   6   2]\n",
      " [  5   4   2   4]\n",
      " [  3   3  24   4]\n",
      " [  3   3   4   4]\n",
      " [  2   1   1   1]\n",
      " [  3   3   2   2]\n",
      " [  4   4   8   3]\n",
      " [  3   3   6   3]\n",
      " [  3   3   8   5]\n",
      " [  2   3   6   4]\n",
      " [  3   2  12   3]\n",
      " [  2   2   2   3]\n",
      " [  4   5 120   4]\n",
      " [  1   1   2   3]\n",
      " [  2   5   1   1]\n",
      " [  3   4   4   4]\n",
      " [  3   4   4   4]\n",
      " [  5   5 120   4]\n",
      " [  3   3  12   4]\n",
      " [  3   3   8   3]\n",
      " [  2   1   6   2]\n",
      " [  4   4  12   3]\n",
      " [  3   3  15   2]\n",
      " [  3   3  24   2]\n",
      " [  4   3  24   5]\n",
      " [  5   4  24   2]\n",
      " [  3   3   6   1]\n",
      " [  4   4  24   4]\n",
      " [  3   3   2   2]\n",
      " [  3   3  24   2]\n",
      " [  3   4  12   5]\n",
      " [  5   5  12   5]\n",
      " [  3   3   2   4]\n",
      " [  2   1   2   1]\n",
      " [  5   5  60   5]\n",
      " [  3   3  12   3]\n",
      " [  3   4   6   4]\n",
      " [  5   4   2   4]\n",
      " [  4   4  24   3]\n",
      " [  3   3  24   4]\n",
      " [  1   2   2   5]\n",
      " [  3   4  24   2]\n",
      " [  4   4   2   3]\n",
      " [  4   3  24   2]\n",
      " [  4   3   2   3]\n",
      " [  2   2  24   4]\n",
      " [  2   3  24   2]\n",
      " [  3   3   6   3]\n",
      " [  4   4  24   4]\n",
      " [  3   3  12   3]\n",
      " [  3   3  24   4]\n",
      " [  2   1   1   2]\n",
      " [  3   2   5   2]\n",
      " [  4   4  12   4]\n",
      " [  2   2   2   3]\n",
      " [  4   5   2   3]\n",
      " [  5   5  12   5]\n",
      " [  3   3   8   4]\n",
      " [  3   3   2   2]]\n",
      "[0 0 0 0 0 0 0 0 0 0 0 1 0 0 0 1 0 0 1 1 0 1 0 0 0 1 0 1 1 0 0 0 0 1 0 0 0\n",
      " 1 0 0 0 1 1 0 1 0 0 0 0 0 0 0 0 1 0 0 1 0 1 0 0 0]\n"
     ]
    }
   ],
   "source": [
    "print(X_train)\n",
    "print(y_train)"
   ]
  },
  {
   "cell_type": "code",
   "execution_count": 8,
   "metadata": {},
   "outputs": [
    {
     "data": {
      "text/plain": [
       "0.7741935483870968"
      ]
     },
     "execution_count": 8,
     "metadata": {},
     "output_type": "execute_result"
    }
   ],
   "source": [
    "from sklearn import svm\n",
    "clf = svm.SVC(kernel='poly', C=1).fit(X_train, y_train)\n",
    "clf.score(X_train, y_train)"
   ]
  },
  {
   "cell_type": "code",
   "execution_count": 96,
   "metadata": {},
   "outputs": [],
   "source": [
    "from sklearn.model_selection import cross_val_score\n",
    "scores = cross_val_score(clf, x, y, cv=5)"
   ]
  },
  {
   "cell_type": "code",
   "execution_count": 97,
   "metadata": {},
   "outputs": [
    {
     "data": {
      "text/plain": [
       "array([0.66666667, 0.72222222, 0.66666667, 0.66666667, 0.70588235])"
      ]
     },
     "execution_count": 97,
     "metadata": {},
     "output_type": "execute_result"
    }
   ],
   "source": [
    "scores"
   ]
  },
  {
   "cell_type": "code",
   "execution_count": 98,
   "metadata": {},
   "outputs": [
    {
     "name": "stdout",
     "output_type": "stream",
     "text": [
      "Accuracy: 0.69 (+/- 0.05)\n"
     ]
    }
   ],
   "source": [
    "print(\"Accuracy: %0.2f (+/- %0.2f)\" % (scores.mean(), scores.std() * 2))"
   ]
  },
  {
   "cell_type": "code",
   "execution_count": 39,
   "metadata": {},
   "outputs": [],
   "source": [
    "from sklearn.preprocessing import StandardScaler\n",
    "scaler = StandardScaler()\n",
    "scaler.fit(X_train)\n",
    "X_train =scaler.transform(X_train)\n",
    "X_test =scaler.transform(X_test)"
   ]
  },
  {
   "cell_type": "code",
   "execution_count": 40,
   "metadata": {},
   "outputs": [
    {
     "data": {
      "text/plain": [
       "array([[ 0.83610363,  0.76841745,  0.42304888,  0.69543311],\n",
       "       [-1.15768195, -1.09989165, -0.39803381,  0.69543311],\n",
       "       [-2.15457475, -1.09989165, -0.58049664,  0.69543311],\n",
       "       [-0.16078916, -1.09989165, -0.39803381, -1.10110242],\n",
       "       [ 1.83299643,  0.76841745, -0.58049664,  0.69543311],\n",
       "       [-0.16078916, -0.1657371 ,  0.42304888,  0.69543311],\n",
       "       [-0.16078916, -0.1657371 , -0.48926523,  0.69543311],\n",
       "       [-1.15768195, -2.0340462 , -0.62611234, -1.99937018],\n",
       "       [-0.16078916, -0.1657371 , -0.58049664, -1.10110242],\n",
       "       [ 0.83610363,  0.76841745, -0.3068024 , -0.20283466],\n",
       "       [-0.16078916, -0.1657371 , -0.39803381, -0.20283466],\n",
       "       [-0.16078916, -0.1657371 , -0.3068024 ,  1.59370087],\n",
       "       [-1.15768195, -0.1657371 , -0.39803381,  0.69543311],\n",
       "       [-0.16078916, -1.09989165, -0.12433958, -0.20283466],\n",
       "       [-1.15768195, -1.09989165, -0.58049664, -0.20283466],\n",
       "       [ 0.83610363,  1.702572  ,  4.80215658,  0.69543311],\n",
       "       [-2.15457475, -2.0340462 , -0.58049664, -0.20283466],\n",
       "       [-1.15768195,  1.702572  , -0.62611234, -1.99937018],\n",
       "       [-0.16078916,  0.76841745, -0.48926523,  0.69543311],\n",
       "       [-0.16078916,  0.76841745, -0.48926523,  0.69543311],\n",
       "       [ 1.83299643,  1.702572  ,  4.80215658,  0.69543311],\n",
       "       [-0.16078916, -0.1657371 , -0.12433958,  0.69543311],\n",
       "       [-0.16078916, -0.1657371 , -0.3068024 , -0.20283466],\n",
       "       [-1.15768195, -2.0340462 , -0.39803381, -1.10110242],\n",
       "       [ 0.83610363,  0.76841745, -0.12433958, -0.20283466],\n",
       "       [-0.16078916, -0.1657371 ,  0.01250753, -1.10110242],\n",
       "       [-0.16078916, -0.1657371 ,  0.42304888, -1.10110242],\n",
       "       [ 0.83610363, -0.1657371 ,  0.42304888,  1.59370087],\n",
       "       [ 1.83299643,  0.76841745,  0.42304888, -1.10110242],\n",
       "       [-0.16078916, -0.1657371 , -0.39803381, -1.99937018],\n",
       "       [ 0.83610363,  0.76841745,  0.42304888,  0.69543311],\n",
       "       [-0.16078916, -0.1657371 , -0.58049664, -1.10110242],\n",
       "       [-0.16078916, -0.1657371 ,  0.42304888, -1.10110242],\n",
       "       [-0.16078916,  0.76841745, -0.12433958,  1.59370087],\n",
       "       [ 1.83299643,  1.702572  , -0.12433958,  1.59370087],\n",
       "       [-0.16078916, -0.1657371 , -0.58049664,  0.69543311],\n",
       "       [-1.15768195, -2.0340462 , -0.58049664, -1.99937018],\n",
       "       [ 1.83299643,  1.702572  ,  2.06521427,  1.59370087],\n",
       "       [-0.16078916, -0.1657371 , -0.12433958, -0.20283466],\n",
       "       [-0.16078916,  0.76841745, -0.39803381,  0.69543311],\n",
       "       [ 1.83299643,  0.76841745, -0.58049664,  0.69543311],\n",
       "       [ 0.83610363,  0.76841745,  0.42304888, -0.20283466],\n",
       "       [-0.16078916, -0.1657371 ,  0.42304888,  0.69543311],\n",
       "       [-2.15457475, -1.09989165, -0.58049664,  1.59370087],\n",
       "       [-0.16078916,  0.76841745,  0.42304888, -1.10110242],\n",
       "       [ 0.83610363,  0.76841745, -0.58049664, -0.20283466],\n",
       "       [ 0.83610363, -0.1657371 ,  0.42304888, -1.10110242],\n",
       "       [ 0.83610363, -0.1657371 , -0.58049664, -0.20283466],\n",
       "       [-1.15768195, -1.09989165,  0.42304888,  0.69543311],\n",
       "       [-1.15768195, -0.1657371 ,  0.42304888, -1.10110242],\n",
       "       [-0.16078916, -0.1657371 , -0.39803381, -0.20283466],\n",
       "       [ 0.83610363,  0.76841745,  0.42304888,  0.69543311],\n",
       "       [-0.16078916, -0.1657371 , -0.12433958, -0.20283466],\n",
       "       [-0.16078916, -0.1657371 ,  0.42304888,  0.69543311],\n",
       "       [-1.15768195, -2.0340462 , -0.62611234, -1.10110242],\n",
       "       [-0.16078916, -1.09989165, -0.44364952, -1.10110242],\n",
       "       [ 0.83610363,  0.76841745, -0.12433958,  0.69543311],\n",
       "       [-1.15768195, -1.09989165, -0.58049664, -0.20283466],\n",
       "       [ 0.83610363,  1.702572  , -0.58049664, -0.20283466],\n",
       "       [ 1.83299643,  1.702572  , -0.12433958,  1.59370087],\n",
       "       [-0.16078916, -0.1657371 , -0.3068024 ,  0.69543311],\n",
       "       [-0.16078916, -0.1657371 , -0.58049664, -1.10110242]])"
      ]
     },
     "execution_count": 40,
     "metadata": {},
     "output_type": "execute_result"
    }
   ],
   "source": [
    "X_train\n"
   ]
  },
  {
   "cell_type": "code",
   "execution_count": 42,
   "metadata": {},
   "outputs": [
    {
     "name": "stdout",
     "output_type": "stream",
     "text": [
      "Accuracy: 0.71 (+/- 0.04)\n"
     ]
    }
   ],
   "source": [
    "clf1 = svm.SVC(kernel='rbf', C=1).fit(X_train, y_train)\n",
    "scores1 = cross_val_score(clf1, x, y, cv=5)\n",
    "print(\"Accuracy: %0.2f (+/- %0.2f)\" % (scores1.mean(), scores1.std() * 2))\n"
   ]
  },
  {
   "cell_type": "code",
   "execution_count": 44,
   "metadata": {},
   "outputs": [
    {
     "data": {
      "text/plain": [
       "array([0.72222222, 0.72222222, 0.72222222, 0.66666667, 0.70588235])"
      ]
     },
     "execution_count": 44,
     "metadata": {},
     "output_type": "execute_result"
    }
   ],
   "source": [
    "scores1"
   ]
  },
  {
   "cell_type": "code",
   "execution_count": 45,
   "metadata": {},
   "outputs": [
    {
     "data": {
      "text/plain": [
       "SVC(C=1, break_ties=False, cache_size=200, class_weight=None, coef0=0.0,\n",
       "    decision_function_shape='ovr', degree=3, gamma='scale', kernel='rbf',\n",
       "    max_iter=-1, probability=False, random_state=None, shrinking=True,\n",
       "    tol=0.001, verbose=False)"
      ]
     },
     "execution_count": 45,
     "metadata": {},
     "output_type": "execute_result"
    }
   ],
   "source": [
    "clf"
   ]
  },
  {
   "cell_type": "code",
   "execution_count": 46,
   "metadata": {},
   "outputs": [
    {
     "data": {
      "text/plain": [
       "SVC(C=1, break_ties=False, cache_size=200, class_weight=None, coef0=0.0,\n",
       "    decision_function_shape='ovr', degree=3, gamma='scale', kernel='rbf',\n",
       "    max_iter=-1, probability=False, random_state=None, shrinking=True,\n",
       "    tol=0.001, verbose=False)"
      ]
     },
     "execution_count": 46,
     "metadata": {},
     "output_type": "execute_result"
    }
   ],
   "source": [
    "clf1"
   ]
  },
  {
   "cell_type": "code",
   "execution_count": 100,
   "metadata": {},
   "outputs": [],
   "source": [
    "import pandas as pd\n",
    "dataset = pd.read_csv('C:\\\\Users\\\\lenovo\\\\Downloads\\\\Online vs In-person data for python.csv')"
   ]
  },
  {
   "cell_type": "code",
   "execution_count": 101,
   "metadata": {},
   "outputs": [
    {
     "data": {
      "text/html": [
       "<div>\n",
       "<style scoped>\n",
       "    .dataframe tbody tr th:only-of-type {\n",
       "        vertical-align: middle;\n",
       "    }\n",
       "\n",
       "    .dataframe tbody tr th {\n",
       "        vertical-align: top;\n",
       "    }\n",
       "\n",
       "    .dataframe thead th {\n",
       "        text-align: right;\n",
       "    }\n",
       "</style>\n",
       "<table border=\"1\" class=\"dataframe\">\n",
       "  <thead>\n",
       "    <tr style=\"text-align: right;\">\n",
       "      <th></th>\n",
       "      <th>Respondents</th>\n",
       "      <th>Age</th>\n",
       "      <th>Gender</th>\n",
       "      <th>Education</th>\n",
       "      <th>Satisfaction</th>\n",
       "      <th>Likely to Recommend</th>\n",
       "      <th>Effect(Better or Worse)</th>\n",
       "      <th>No benefits</th>\n",
       "      <th>Social Distancing</th>\n",
       "      <th>Home Setting</th>\n",
       "      <th>Time efficient</th>\n",
       "      <th>One on One attention</th>\n",
       "      <th>Preference</th>\n",
       "    </tr>\n",
       "  </thead>\n",
       "  <tbody>\n",
       "    <tr>\n",
       "      <th>0</th>\n",
       "      <td>1.0</td>\n",
       "      <td>3.0</td>\n",
       "      <td>1.0</td>\n",
       "      <td>3.0</td>\n",
       "      <td>5.0</td>\n",
       "      <td>5.0</td>\n",
       "      <td>4.0</td>\n",
       "      <td>0</td>\n",
       "      <td>1.0</td>\n",
       "      <td>1.0</td>\n",
       "      <td>1.0</td>\n",
       "      <td>1.0</td>\n",
       "      <td>0.0</td>\n",
       "    </tr>\n",
       "    <tr>\n",
       "      <th>1</th>\n",
       "      <td>2.0</td>\n",
       "      <td>3.0</td>\n",
       "      <td>1.0</td>\n",
       "      <td>3.0</td>\n",
       "      <td>3.0</td>\n",
       "      <td>3.0</td>\n",
       "      <td>2.0</td>\n",
       "      <td>0</td>\n",
       "      <td>1.0</td>\n",
       "      <td>1.0</td>\n",
       "      <td>1.0</td>\n",
       "      <td>0.0</td>\n",
       "      <td>0.0</td>\n",
       "    </tr>\n",
       "    <tr>\n",
       "      <th>2</th>\n",
       "      <td>3.0</td>\n",
       "      <td>3.0</td>\n",
       "      <td>1.0</td>\n",
       "      <td>3.0</td>\n",
       "      <td>4.0</td>\n",
       "      <td>4.0</td>\n",
       "      <td>3.0</td>\n",
       "      <td>0</td>\n",
       "      <td>1.0</td>\n",
       "      <td>0.0</td>\n",
       "      <td>0.0</td>\n",
       "      <td>0.0</td>\n",
       "      <td>1.0</td>\n",
       "    </tr>\n",
       "    <tr>\n",
       "      <th>3</th>\n",
       "      <td>4.0</td>\n",
       "      <td>2.0</td>\n",
       "      <td>1.0</td>\n",
       "      <td>5.0</td>\n",
       "      <td>1.0</td>\n",
       "      <td>2.0</td>\n",
       "      <td>4.0</td>\n",
       "      <td>0</td>\n",
       "      <td>1.0</td>\n",
       "      <td>0.0</td>\n",
       "      <td>0.0</td>\n",
       "      <td>0.0</td>\n",
       "      <td>0.0</td>\n",
       "    </tr>\n",
       "    <tr>\n",
       "      <th>4</th>\n",
       "      <td>5.0</td>\n",
       "      <td>3.0</td>\n",
       "      <td>2.0</td>\n",
       "      <td>4.0</td>\n",
       "      <td>2.0</td>\n",
       "      <td>3.0</td>\n",
       "      <td>4.0</td>\n",
       "      <td>0</td>\n",
       "      <td>1.0</td>\n",
       "      <td>1.0</td>\n",
       "      <td>0.0</td>\n",
       "      <td>0.0</td>\n",
       "      <td>0.0</td>\n",
       "    </tr>\n",
       "  </tbody>\n",
       "</table>\n",
       "</div>"
      ],
      "text/plain": [
       "   Respondents  Age   Gender  Education  Satisfaction   Likely to Recommend  \\\n",
       "0          1.0   3.0     1.0        3.0            5.0                  5.0   \n",
       "1          2.0   3.0     1.0        3.0            3.0                  3.0   \n",
       "2          3.0   3.0     1.0        3.0            4.0                  4.0   \n",
       "3          4.0   2.0     1.0        5.0            1.0                  2.0   \n",
       "4          5.0   3.0     2.0        4.0            2.0                  3.0   \n",
       "\n",
       "   Effect(Better or Worse) No benefits  Social Distancing  Home Setting  \\\n",
       "0                      4.0           0                1.0           1.0   \n",
       "1                      2.0           0                1.0           1.0   \n",
       "2                      3.0           0                1.0           0.0   \n",
       "3                      4.0           0                1.0           0.0   \n",
       "4                      4.0           0                1.0           1.0   \n",
       "\n",
       "   Time efficient  One on One attention  Preference  \n",
       "0             1.0                   1.0         0.0  \n",
       "1             1.0                   0.0         0.0  \n",
       "2             0.0                   0.0         1.0  \n",
       "3             0.0                   0.0         0.0  \n",
       "4             0.0                   0.0         0.0  "
      ]
     },
     "execution_count": 101,
     "metadata": {},
     "output_type": "execute_result"
    }
   ],
   "source": [
    "dataset.head()"
   ]
  },
  {
   "cell_type": "code",
   "execution_count": 102,
   "metadata": {},
   "outputs": [
    {
     "data": {
      "text/html": [
       "<div>\n",
       "<style scoped>\n",
       "    .dataframe tbody tr th:only-of-type {\n",
       "        vertical-align: middle;\n",
       "    }\n",
       "\n",
       "    .dataframe tbody tr th {\n",
       "        vertical-align: top;\n",
       "    }\n",
       "\n",
       "    .dataframe thead th {\n",
       "        text-align: right;\n",
       "    }\n",
       "</style>\n",
       "<table border=\"1\" class=\"dataframe\">\n",
       "  <thead>\n",
       "    <tr style=\"text-align: right;\">\n",
       "      <th></th>\n",
       "      <th>Age</th>\n",
       "      <th>Gender</th>\n",
       "      <th>Education</th>\n",
       "      <th>Satisfaction</th>\n",
       "      <th>Likely to Recommend</th>\n",
       "      <th>Effect(Better or Worse)</th>\n",
       "      <th>No benefits</th>\n",
       "      <th>Social Distancing</th>\n",
       "      <th>Home Setting</th>\n",
       "      <th>Time efficient</th>\n",
       "      <th>One on One attention</th>\n",
       "      <th>Preference</th>\n",
       "    </tr>\n",
       "  </thead>\n",
       "  <tbody>\n",
       "    <tr>\n",
       "      <th>993</th>\n",
       "      <td>NaN</td>\n",
       "      <td>NaN</td>\n",
       "      <td>NaN</td>\n",
       "      <td>NaN</td>\n",
       "      <td>NaN</td>\n",
       "      <td>NaN</td>\n",
       "      <td>NaN</td>\n",
       "      <td>NaN</td>\n",
       "      <td>NaN</td>\n",
       "      <td>NaN</td>\n",
       "      <td>NaN</td>\n",
       "      <td>NaN</td>\n",
       "    </tr>\n",
       "    <tr>\n",
       "      <th>994</th>\n",
       "      <td>NaN</td>\n",
       "      <td>NaN</td>\n",
       "      <td>NaN</td>\n",
       "      <td>NaN</td>\n",
       "      <td>NaN</td>\n",
       "      <td>NaN</td>\n",
       "      <td>NaN</td>\n",
       "      <td>NaN</td>\n",
       "      <td>NaN</td>\n",
       "      <td>NaN</td>\n",
       "      <td>NaN</td>\n",
       "      <td>NaN</td>\n",
       "    </tr>\n",
       "    <tr>\n",
       "      <th>995</th>\n",
       "      <td>NaN</td>\n",
       "      <td>NaN</td>\n",
       "      <td>NaN</td>\n",
       "      <td>NaN</td>\n",
       "      <td>NaN</td>\n",
       "      <td>NaN</td>\n",
       "      <td>NaN</td>\n",
       "      <td>NaN</td>\n",
       "      <td>NaN</td>\n",
       "      <td>NaN</td>\n",
       "      <td>NaN</td>\n",
       "      <td>NaN</td>\n",
       "    </tr>\n",
       "    <tr>\n",
       "      <th>996</th>\n",
       "      <td>NaN</td>\n",
       "      <td>NaN</td>\n",
       "      <td>NaN</td>\n",
       "      <td>NaN</td>\n",
       "      <td>NaN</td>\n",
       "      <td>NaN</td>\n",
       "      <td>NaN</td>\n",
       "      <td>NaN</td>\n",
       "      <td>NaN</td>\n",
       "      <td>NaN</td>\n",
       "      <td>NaN</td>\n",
       "      <td>NaN</td>\n",
       "    </tr>\n",
       "    <tr>\n",
       "      <th>997</th>\n",
       "      <td>NaN</td>\n",
       "      <td>NaN</td>\n",
       "      <td>NaN</td>\n",
       "      <td>NaN</td>\n",
       "      <td>NaN</td>\n",
       "      <td>NaN</td>\n",
       "      <td>NaN</td>\n",
       "      <td>NaN</td>\n",
       "      <td>NaN</td>\n",
       "      <td>NaN</td>\n",
       "      <td>NaN</td>\n",
       "      <td>NaN</td>\n",
       "    </tr>\n",
       "  </tbody>\n",
       "</table>\n",
       "</div>"
      ],
      "text/plain": [
       "     Age   Gender  Education  Satisfaction   Likely to Recommend  \\\n",
       "993   NaN     NaN        NaN            NaN                  NaN   \n",
       "994   NaN     NaN        NaN            NaN                  NaN   \n",
       "995   NaN     NaN        NaN            NaN                  NaN   \n",
       "996   NaN     NaN        NaN            NaN                  NaN   \n",
       "997   NaN     NaN        NaN            NaN                  NaN   \n",
       "\n",
       "     Effect(Better or Worse) No benefits  Social Distancing  Home Setting  \\\n",
       "993                      NaN         NaN                NaN           NaN   \n",
       "994                      NaN         NaN                NaN           NaN   \n",
       "995                      NaN         NaN                NaN           NaN   \n",
       "996                      NaN         NaN                NaN           NaN   \n",
       "997                      NaN         NaN                NaN           NaN   \n",
       "\n",
       "     Time efficient  One on One attention  Preference  \n",
       "993             NaN                   NaN         NaN  \n",
       "994             NaN                   NaN         NaN  \n",
       "995             NaN                   NaN         NaN  \n",
       "996             NaN                   NaN         NaN  \n",
       "997             NaN                   NaN         NaN  "
      ]
     },
     "execution_count": 102,
     "metadata": {},
     "output_type": "execute_result"
    }
   ],
   "source": [
    "A = dataset.iloc[:,1:13]\n",
    "A.tail()"
   ]
  },
  {
   "cell_type": "code",
   "execution_count": 18,
   "metadata": {},
   "outputs": [
    {
     "data": {
      "text/plain": [
       "array([[3.0, 1.0, 3.0, ..., 1.0, 1.0, 0.0],\n",
       "       [3.0, 1.0, 3.0, ..., 1.0, 0.0, 0.0],\n",
       "       [3.0, 1.0, 3.0, ..., 0.0, 0.0, 1.0],\n",
       "       ...,\n",
       "       [nan, nan, nan, ..., nan, nan, nan],\n",
       "       [nan, nan, nan, ..., nan, nan, nan],\n",
       "       [nan, nan, nan, ..., nan, nan, nan]], dtype=object)"
      ]
     },
     "execution_count": 18,
     "metadata": {},
     "output_type": "execute_result"
    }
   ],
   "source": [
    "import numpy as np\n",
    "A\n",
    "A1 = np.asarray(A)\n",
    "A1"
   ]
  },
  {
   "cell_type": "code",
   "execution_count": 19,
   "metadata": {},
   "outputs": [
    {
     "data": {
      "text/plain": [
       "1.0    71\n",
       "2.0    36\n",
       "Name: Gender, dtype: int64"
      ]
     },
     "execution_count": 19,
     "metadata": {},
     "output_type": "execute_result"
    }
   ],
   "source": [
    "dataset['Gender'].value_counts()"
   ]
  },
  {
   "cell_type": "code",
   "execution_count": 8,
   "metadata": {},
   "outputs": [],
   "source": [
    "dataset = pd.read_csv('C:\\\\Users\\\\lenovo\\\\Downloads\\\\Online vs Class Python.csv')"
   ]
  },
  {
   "cell_type": "code",
   "execution_count": 9,
   "metadata": {},
   "outputs": [
    {
     "data": {
      "text/html": [
       "<div>\n",
       "<style scoped>\n",
       "    .dataframe tbody tr th:only-of-type {\n",
       "        vertical-align: middle;\n",
       "    }\n",
       "\n",
       "    .dataframe tbody tr th {\n",
       "        vertical-align: top;\n",
       "    }\n",
       "\n",
       "    .dataframe thead th {\n",
       "        text-align: right;\n",
       "    }\n",
       "</style>\n",
       "<table border=\"1\" class=\"dataframe\">\n",
       "  <thead>\n",
       "    <tr style=\"text-align: right;\">\n",
       "      <th></th>\n",
       "      <th>Respondents</th>\n",
       "      <th>Age</th>\n",
       "      <th>Gender</th>\n",
       "      <th>Education</th>\n",
       "      <th>Satisfaction</th>\n",
       "      <th>Likely to Recommend</th>\n",
       "      <th>Effect(Better or Worse)</th>\n",
       "      <th>No benefits</th>\n",
       "      <th>Social Distancing</th>\n",
       "      <th>Home Setting</th>\n",
       "      <th>Time efficient</th>\n",
       "      <th>One on One attention</th>\n",
       "      <th>Preference</th>\n",
       "    </tr>\n",
       "  </thead>\n",
       "  <tbody>\n",
       "    <tr>\n",
       "      <th>0</th>\n",
       "      <td>1</td>\n",
       "      <td>3</td>\n",
       "      <td>1</td>\n",
       "      <td>3</td>\n",
       "      <td>5</td>\n",
       "      <td>5</td>\n",
       "      <td>4</td>\n",
       "      <td>0</td>\n",
       "      <td>1</td>\n",
       "      <td>1</td>\n",
       "      <td>1</td>\n",
       "      <td>1</td>\n",
       "      <td>0</td>\n",
       "    </tr>\n",
       "    <tr>\n",
       "      <th>1</th>\n",
       "      <td>2</td>\n",
       "      <td>3</td>\n",
       "      <td>1</td>\n",
       "      <td>3</td>\n",
       "      <td>3</td>\n",
       "      <td>3</td>\n",
       "      <td>2</td>\n",
       "      <td>0</td>\n",
       "      <td>1</td>\n",
       "      <td>1</td>\n",
       "      <td>1</td>\n",
       "      <td>0</td>\n",
       "      <td>0</td>\n",
       "    </tr>\n",
       "    <tr>\n",
       "      <th>2</th>\n",
       "      <td>3</td>\n",
       "      <td>3</td>\n",
       "      <td>1</td>\n",
       "      <td>3</td>\n",
       "      <td>4</td>\n",
       "      <td>4</td>\n",
       "      <td>3</td>\n",
       "      <td>0</td>\n",
       "      <td>1</td>\n",
       "      <td>0</td>\n",
       "      <td>0</td>\n",
       "      <td>0</td>\n",
       "      <td>1</td>\n",
       "    </tr>\n",
       "    <tr>\n",
       "      <th>3</th>\n",
       "      <td>4</td>\n",
       "      <td>2</td>\n",
       "      <td>1</td>\n",
       "      <td>5</td>\n",
       "      <td>1</td>\n",
       "      <td>2</td>\n",
       "      <td>4</td>\n",
       "      <td>0</td>\n",
       "      <td>1</td>\n",
       "      <td>0</td>\n",
       "      <td>0</td>\n",
       "      <td>0</td>\n",
       "      <td>0</td>\n",
       "    </tr>\n",
       "    <tr>\n",
       "      <th>4</th>\n",
       "      <td>5</td>\n",
       "      <td>3</td>\n",
       "      <td>2</td>\n",
       "      <td>4</td>\n",
       "      <td>2</td>\n",
       "      <td>3</td>\n",
       "      <td>4</td>\n",
       "      <td>0</td>\n",
       "      <td>1</td>\n",
       "      <td>1</td>\n",
       "      <td>0</td>\n",
       "      <td>0</td>\n",
       "      <td>0</td>\n",
       "    </tr>\n",
       "  </tbody>\n",
       "</table>\n",
       "</div>"
      ],
      "text/plain": [
       "   Respondents  Age   Gender  Education  Satisfaction   Likely to Recommend  \\\n",
       "0            1     3       1          3              5                    5   \n",
       "1            2     3       1          3              3                    3   \n",
       "2            3     3       1          3              4                    4   \n",
       "3            4     2       1          5              1                    2   \n",
       "4            5     3       2          4              2                    3   \n",
       "\n",
       "   Effect(Better or Worse)  No benefits  Social Distancing  Home Setting  \\\n",
       "0                        4            0                  1             1   \n",
       "1                        2            0                  1             1   \n",
       "2                        3            0                  1             0   \n",
       "3                        4            0                  1             0   \n",
       "4                        4            0                  1             1   \n",
       "\n",
       "   Time efficient  One on One attention  Preference  \n",
       "0               1                     1           0  \n",
       "1               1                     0           0  \n",
       "2               0                     0           1  \n",
       "3               0                     0           0  \n",
       "4               0                     0           0  "
      ]
     },
     "execution_count": 9,
     "metadata": {},
     "output_type": "execute_result"
    }
   ],
   "source": [
    "A = dataset.iloc[:,0:13]\n",
    "dataset.head()"
   ]
  },
  {
   "cell_type": "code",
   "execution_count": 11,
   "metadata": {},
   "outputs": [
    {
     "data": {
      "text/plain": [
       "array([0, 0, 1, 0, 0, 0, 0, 0, 0, 1, 1, 0, 0, 1, 0, 0, 0, 0, 0, 1, 0, 0,\n",
       "       1, 1, 1, 0, 0, 0, 0, 0, 1, 1, 1, 0, 1, 0, 0, 0, 0, 0, 1, 0, 0, 1,\n",
       "       0, 0, 0, 0, 0, 0, 0, 0, 0, 0, 1, 1, 1, 0, 0, 0, 0, 0, 0, 0, 0, 0,\n",
       "       0, 1, 1, 1, 1, 0, 0, 1, 0, 0, 0, 1, 0, 0, 0, 1, 0, 1, 0, 0, 0, 1,\n",
       "       0, 0, 0, 0, 0, 0, 1, 0, 0, 0, 0, 0, 0, 0, 0, 0, 0, 0, 0],\n",
       "      dtype=int64)"
      ]
     },
     "execution_count": 11,
     "metadata": {},
     "output_type": "execute_result"
    }
   ],
   "source": [
    "import numpy as np\n",
    "y = dataset.iloc[:,12]\n",
    "y = np.asarray(y)\n",
    "y"
   ]
  },
  {
   "cell_type": "code",
   "execution_count": 12,
   "metadata": {},
   "outputs": [
    {
     "name": "stdout",
     "output_type": "stream",
     "text": [
      "[[3 1 3 ... 1 1 1]\n",
      " [3 1 3 ... 1 1 0]\n",
      " [3 1 3 ... 0 0 0]\n",
      " ...\n",
      " [3 1 3 ... 1 1 0]\n",
      " [3 1 3 ... 0 1 0]\n",
      " [3 1 3 ... 1 1 0]]\n"
     ]
    }
   ],
   "source": [
    "x = dataset.iloc[:,1:12]\n",
    "x = np.asarray(x)\n",
    "print(x)"
   ]
  },
  {
   "cell_type": "code",
   "execution_count": 119,
   "metadata": {},
   "outputs": [],
   "source": [
    "from sklearn.model_selection import train_test_split\n",
    "X_train, X_test, y_train, y_test = train_test_split(x, y, test_size=0.2, random_state=5, shuffle = True)"
   ]
  },
  {
   "cell_type": "code",
   "execution_count": 120,
   "metadata": {},
   "outputs": [
    {
     "name": "stdout",
     "output_type": "stream",
     "text": [
      "[[2 2 3 5 5 2 0 0 0 0 1]\n",
      " [3 1 3 4 4 3 0 0 1 1 0]\n",
      " [3 2 4 2 2 4 0 1 1 1 0]\n",
      " [3 2 4 4 4 3 0 1 1 1 0]\n",
      " [5 2 4 5 4 4 0 1 0 0 0]\n",
      " [1 1 1 4 4 2 0 1 1 1 0]\n",
      " [2 1 2 4 4 5 0 0 1 1 1]\n",
      " [3 2 4 4 3 3 0 1 0 0 0]\n",
      " [3 1 4 3 4 4 0 1 1 0 0]\n",
      " [3 1 4 3 3 3 0 0 1 1 0]\n",
      " [2 2 4 3 4 5 0 0 1 1 0]\n",
      " [5 1 4 3 4 4 0 0 0 1 0]\n",
      " [3 1 3 4 5 4 0 0 1 0 0]\n",
      " [3 1 4 5 5 4 0 0 0 0 1]\n",
      " [3 1 4 3 3 4 0 0 1 1 0]\n",
      " [2 1 2 3 3 2 0 1 1 1 0]\n",
      " [3 1 3 4 3 3 0 1 1 1 0]\n",
      " [5 1 3 4 5 3 0 1 0 0 0]\n",
      " [3 1 4 2 2 4 0 1 1 0 0]\n",
      " [3 1 5 3 3 4 0 1 1 1 0]\n",
      " [3 1 4 4 4 4 0 0 0 1 0]\n",
      " [4 1 4 3 3 2 0 1 1 1 0]\n",
      " [5 2 4 3 3 1 0 1 1 0 0]\n",
      " [3 1 3 3 4 4 0 1 0 1 0]\n",
      " [3 2 3 5 5 5 0 0 1 1 0]\n",
      " [1 1 1 3 2 2 0 0 0 0 1]\n",
      " [3 1 4 4 3 2 0 1 1 1 0]\n",
      " [2 2 3 2 2 2 0 1 1 1 0]\n",
      " [3 1 4 3 3 3 0 0 1 1 0]\n",
      " [2 1 5 3 4 4 0 1 1 1 0]\n",
      " [2 2 1 3 3 4 0 1 0 0 0]\n",
      " [5 2 3 3 3 2 0 1 0 0 0]\n",
      " [3 1 3 4 4 4 0 1 1 1 0]\n",
      " [3 2 4 3 3 5 0 1 0 1 0]\n",
      " [2 2 4 4 4 4 0 1 1 1 0]\n",
      " [2 1 5 1 2 4 0 1 0 0 0]\n",
      " [3 1 5 3 3 4 0 1 1 1 0]\n",
      " [1 1 3 2 1 2 0 1 1 0 0]\n",
      " [2 2 3 2 1 1 0 1 0 0 0]\n",
      " [2 1 3 1 1 2 1 0 0 0 0]\n",
      " [3 1 3 3 3 3 0 1 1 1 0]\n",
      " [5 1 4 2 2 2 1 0 0 0 0]\n",
      " [3 2 3 2 3 3 0 1 0 0 0]\n",
      " [3 1 3 3 4 2 0 1 1 1 0]\n",
      " [3 1 4 5 5 5 0 0 1 1 1]\n",
      " [2 2 3 1 1 3 0 1 0 0 0]\n",
      " [5 1 4 3 4 4 0 0 0 1 0]\n",
      " [3 1 3 4 4 3 0 1 0 0 0]\n",
      " [2 1 3 5 4 2 0 1 1 1 0]\n",
      " [3 1 3 3 3 2 0 1 1 1 1]\n",
      " [4 1 3 3 3 2 0 1 0 0 0]\n",
      " [2 1 3 2 1 2 1 1 0 0 0]\n",
      " [3 2 4 2 3 4 0 1 1 0 0]\n",
      " [3 1 3 5 5 4 0 1 1 1 1]\n",
      " [3 1 3 4 4 4 0 1 1 1 0]\n",
      " [2 1 3 2 5 1 1 0 0 1 0]\n",
      " [5 1 4 2 2 2 1 0 0 0 0]\n",
      " [3 1 3 3 3 2 0 1 1 1 0]\n",
      " [3 1 3 4 3 3 0 1 1 1 0]\n",
      " [3 2 3 5 5 5 0 1 1 1 1]\n",
      " [3 1 3 4 4 4 0 0 1 1 0]\n",
      " [3 1 4 3 3 4 0 0 0 1 0]\n",
      " [4 2 4 3 3 4 0 1 0 1 1]\n",
      " [3 2 3 3 3 4 0 1 0 1 0]\n",
      " [3 1 3 3 3 3 0 1 1 0 0]\n",
      " [5 2 4 5 4 4 0 1 0 0 0]\n",
      " [5 1 3 3 3 2 0 1 0 0 0]\n",
      " [3 1 5 3 3 2 0 1 0 0 0]\n",
      " [5 1 5 3 3 3 0 1 1 0 0]\n",
      " [4 2 3 2 2 4 0 1 0 0 0]\n",
      " [1 1 1 3 3 2 1 0 0 0 0]\n",
      " [2 1 3 3 2 3 0 0 1 1 0]\n",
      " [3 2 3 5 5 5 0 0 1 1 0]\n",
      " [3 1 4 2 3 3 0 1 1 0 0]\n",
      " [1 1 1 3 1 3 0 0 1 1 0]\n",
      " [3 2 3 3 3 1 0 1 0 0 0]\n",
      " [3 2 3 3 3 4 0 1 1 1 0]\n",
      " [3 2 4 3 2 2 0 1 1 0 0]\n",
      " [3 2 4 3 3 3 0 0 0 1 1]\n",
      " [5 1 4 4 4 4 0 0 0 0 1]\n",
      " [2 1 3 1 1 1 0 1 0 0 0]\n",
      " [3 1 3 4 3 3 0 1 1 1 0]\n",
      " [3 1 3 3 3 4 0 0 1 1 0]\n",
      " [3 1 4 2 4 4 0 1 1 0 0]\n",
      " [4 2 4 3 3 4 0 0 1 0 0]]\n",
      "[1 0 0 1 0 0 1 0 0 0 1 1 1 1 1 0 0 1 0 1 0 0 0 0 0 0 0 0 0 0 0 0 0 1 0 0 1\n",
      " 0 0 0 0 0 0 1 1 0 1 1 1 0 0 0 0 0 0 0 0 0 0 0 1 0 0 0 0 0 1 0 0 0 0 0 0 0\n",
      " 0 1 0 0 0 1 0 0 0 0 0]\n"
     ]
    }
   ],
   "source": [
    "print(X_train)\n",
    "print(y_train)"
   ]
  },
  {
   "cell_type": "code",
   "execution_count": 121,
   "metadata": {},
   "outputs": [
    {
     "data": {
      "text/plain": [
       "0.8636363636363636"
      ]
     },
     "execution_count": 121,
     "metadata": {},
     "output_type": "execute_result"
    }
   ],
   "source": [
    "from sklearn import svm\n",
    "degree = 14\n",
    "clf = svm.SVC(kernel='poly', probability = True, degree = degree, C=1).fit(X_train, y_train)\n",
    "clf.score(X_test, y_test)"
   ]
  },
  {
   "cell_type": "code",
   "execution_count": 122,
   "metadata": {},
   "outputs": [
    {
     "data": {
      "text/plain": [
       "array([0.72727273, 0.72727273, 0.72727273, 0.72727273, 0.72727273,\n",
       "       0.68181818, 0.68181818, 0.72727273, 0.72727273, 0.72727273,\n",
       "       0.72727273, 0.81818182, 0.81818182, 0.81818182, 0.86363636,\n",
       "       0.86363636, 0.86363636, 0.81818182, 0.81818182, 0.81818182,\n",
       "       0.77272727, 0.77272727, 0.77272727, 0.77272727, 0.77272727,\n",
       "       0.77272727, 0.77272727, 0.77272727, 0.77272727, 0.77272727,\n",
       "       0.77272727, 0.77272727, 0.77272727, 0.77272727, 0.77272727,\n",
       "       0.77272727, 0.77272727, 0.77272727, 0.72727273, 0.72727273,\n",
       "       0.72727273, 0.72727273, 0.72727273, 0.72727273, 0.72727273,\n",
       "       0.72727273, 0.72727273, 0.72727273, 0.72727273, 0.72727273])"
      ]
     },
     "execution_count": 122,
     "metadata": {},
     "output_type": "execute_result"
    }
   ],
   "source": [
    "degrees = 50\n",
    "Scores = np.zeros(degrees)\n",
    "Models = []\n",
    "for degree in range(degrees):\n",
    "    clf = svm.SVC(kernel='poly', probability = True, degree = degree, C=1).fit(X_train, y_train)\n",
    "    Models.append(clf)\n",
    "    score = clf.score(X_test, y_test)\n",
    "    Scores[degree] = score\n",
    "max_score = np.argmax(Scores)\n",
    "clf = Models[max_score]\n",
    "Models[max_score], Scores[max_score]\n",
    "Scores"
   ]
  },
  {
   "cell_type": "code",
   "execution_count": 123,
   "metadata": {},
   "outputs": [
    {
     "name": "stderr",
     "output_type": "stream",
     "text": [
      "C:\\Users\\lenovo\\anaconda3\\envs\\tensorflow\\lib\\site-packages\\seaborn\\_decorators.py:43: FutureWarning: Pass the following variables as keyword args: x, y. From version 0.12, the only valid positional argument will be `data`, and passing other arguments without an explicit keyword will result in an error or misinterpretation.\n",
      "  FutureWarning\n"
     ]
    },
    {
     "data": {
      "text/plain": [
       "<matplotlib.axes._subplots.AxesSubplot at 0x1973d19d808>"
      ]
     },
     "execution_count": 123,
     "metadata": {},
     "output_type": "execute_result"
    },
    {
     "data": {
      "image/png": "[encoded data removed]",
      "text/plain": [
       "<Figure size 432x288 with 1 Axes>"
      ]
     },
     "metadata": {
      "needs_background": "light"
     },
     "output_type": "display_data"
    }
   ],
   "source": [
    "import seaborn as sns\n",
    "sns.lineplot(np.asarray(range(degrees)).flatten(), Scores)"
   ]
  },
  {
   "cell_type": "code",
   "execution_count": 124,
   "metadata": {},
   "outputs": [],
   "source": [
    "from sklearn.model_selection import cross_val_score\n",
    "scores = cross_val_score(Models[max_score], x, y, cv=5)"
   ]
  },
  {
   "cell_type": "code",
   "execution_count": 125,
   "metadata": {},
   "outputs": [],
   "source": [
    "score_cv = []\n",
    "for i in range(degrees):\n",
    "    scores = cross_val_score(Models[i], x, y, cv=5)\n",
    "    score_cv.append(scores.mean())"
   ]
  },
  {
   "cell_type": "code",
   "execution_count": 126,
   "metadata": {},
   "outputs": [
    {
     "data": {
      "text/plain": [
       "0.7956709956709956"
      ]
     },
     "execution_count": 126,
     "metadata": {},
     "output_type": "execute_result"
    }
   ],
   "source": [
    "max_score_av = np.argmax(score_cv)\n",
    "score_cv[max_score_av]"
   ]
  },
  {
   "cell_type": "code",
   "execution_count": 127,
   "metadata": {},
   "outputs": [
    {
     "name": "stdout",
     "output_type": "stream",
     "text": [
      "Highest Accuracy attained: 0.80 (+/- 0.14)\n"
     ]
    }
   ],
   "source": [
    "print(\"Highest Accuracy attained: %0.2f (+/- %0.2f)\" % (score_cv[max_score_av], cross_val_score(Models[max_score_av], x, y, cv=5).std() * 2))\n",
    "#print('Best Model a : {}'.format(max_score_av))"
   ]
  },
  {
   "cell_type": "code",
   "execution_count": 128,
   "metadata": {},
   "outputs": [
    {
     "data": {
      "text/plain": [
       "array([0, 1, 0, 0, 0, 1, 0, 1, 0, 0, 1, 0, 0, 1, 1, 0, 0, 0, 1, 0, 0, 0],\n",
       "      dtype=int64)"
      ]
     },
     "execution_count": 128,
     "metadata": {},
     "output_type": "execute_result"
    }
   ],
   "source": [
    "y_pred = clf.predict(X_test)\n",
    "y_pred"
   ]
  },
  {
   "cell_type": "code",
   "execution_count": 129,
   "metadata": {},
   "outputs": [
    {
     "name": "stdout",
     "output_type": "stream",
     "text": [
      "[[14  2]\n",
      " [ 1  5]]\n",
      "              precision    recall  f1-score   support\n",
      "\n",
      "           0       0.93      0.88      0.90        16\n",
      "           1       0.71      0.83      0.77         6\n",
      "\n",
      "    accuracy                           0.86        22\n",
      "   macro avg       0.82      0.85      0.84        22\n",
      "weighted avg       0.87      0.86      0.87        22\n",
      "\n"
     ]
    }
   ],
   "source": [
    "from sklearn.metrics import classification_report, confusion_matrix\n",
    "print(confusion_matrix(y_test, y_pred))\n",
    "print(classification_report(y_test, y_pred))"
   ]
  },
  {
   "cell_type": "code",
   "execution_count": 130,
   "metadata": {},
   "outputs": [],
   "source": [
    "ns_probs = [0 for _ in range(len(y_test))]"
   ]
  },
  {
   "cell_type": "code",
   "execution_count": 131,
   "metadata": {},
   "outputs": [
    {
     "name": "stdout",
     "output_type": "stream",
     "text": [
      "[[0.79213667 0.20786333]\n",
      " [0.73482514 0.26517486]\n",
      " [0.78502917 0.21497083]\n",
      " [0.78286039 0.21713961]\n",
      " [0.78477917 0.21522083]\n",
      " [0.70687583 0.29312417]\n",
      " [0.78992992 0.21007008]\n",
      " [0.61313914 0.38686086]\n",
      " [0.78153695 0.21846305]\n",
      " [0.78857383 0.21142617]\n",
      " [0.75704466 0.24295534]\n",
      " [0.80620959 0.19379041]\n",
      " [0.79487567 0.20512433]\n",
      " [0.74459504 0.25540496]\n",
      " [0.73929851 0.26070149]\n",
      " [0.78502377 0.21497623]\n",
      " [0.79541038 0.20458962]\n",
      " [0.78477021 0.21522979]\n",
      " [0.16016469 0.83983531]\n",
      " [0.81908467 0.18091533]\n",
      " [0.78477785 0.21522215]\n",
      " [0.7842157  0.2157843 ]]\n"
     ]
    }
   ],
   "source": [
    "lr_probs = clf.predict_proba(X_test)\n",
    "print(lr_probs)"
   ]
  },
  {
   "cell_type": "code",
   "execution_count": 132,
   "metadata": {},
   "outputs": [],
   "source": [
    "lr_probs = lr_probs[:, 1]"
   ]
  },
  {
   "cell_type": "code",
   "execution_count": 133,
   "metadata": {},
   "outputs": [],
   "source": [
    "from sklearn.metrics import roc_curve\n",
    "from sklearn.metrics import roc_auc_score\n",
    "from matplotlib import pyplot\n",
    "ns_auc = roc_auc_score(y_test, ns_probs)\n",
    "lr_auc = roc_auc_score(y_test, lr_probs)"
   ]
  },
  {
   "cell_type": "code",
   "execution_count": 134,
   "metadata": {},
   "outputs": [
    {
     "name": "stdout",
     "output_type": "stream",
     "text": [
      "No Classification: ROC AUC=0.500\n",
      "SVM: ROC AUC=0.906\n"
     ]
    }
   ],
   "source": [
    "# summarize scores\n",
    "print('No Classification: ROC AUC=%.3f' % (ns_auc))\n",
    "print('SVM: ROC AUC=%.3f' % (lr_auc))\n",
    "# calculate roc curves\n",
    "ns_fpr, ns_tpr, _ = roc_curve(y_test, ns_probs)\n",
    "lr_fpr, lr_tpr, _ = roc_curve(y_test, lr_probs)"
   ]
  },
  {
   "cell_type": "code",
   "execution_count": 135,
   "metadata": {},
   "outputs": [
    {
     "data": {
      "image/png": "[encoded data removed]",
      "text/plain": [
       "<Figure size 432x288 with 1 Axes>"
      ]
     },
     "metadata": {
      "needs_background": "light"
     },
     "output_type": "display_data"
    }
   ],
   "source": [
    "# plot the roc curve for the model\n",
    "pyplot.plot(ns_fpr, ns_tpr, linestyle='--', label='No Classification')\n",
    "pyplot.plot(lr_fpr, lr_tpr, marker='.', label='SVM Classifier')\n",
    "# axis labels\n",
    "pyplot.xlabel('False Positive Rate')\n",
    "pyplot.ylabel('True Positive Rate')\n",
    "# show the legend\n",
    "pyplot.legend()\n",
    "# show the plot\n",
    "pyplot.show()"
   ]
  },
  {
   "cell_type": "code",
   "execution_count": 136,
   "metadata": {},
   "outputs": [
    {
     "name": "stdout",
     "output_type": "stream",
     "text": [
      "b =  [-1.0183262]\n"
     ]
    }
   ],
   "source": [
    "#print('w = ',clf.coef_)\n",
    "print('b = ',clf.intercept_)"
   ]
  },
  {
   "cell_type": "code",
   "execution_count": 137,
   "metadata": {},
   "outputs": [
    {
     "name": "stdout",
     "output_type": "stream",
     "text": [
      "Indices of support vectors =  [ 1  2  7  8 15 18 22 23 27 29 31 34 35 50 53 55 57 61 72 78 82 83 11 14\n",
      " 19 33 36 43 46 47 60 66 75 79]\n",
      "Support vectors =  [[3. 1. 3. 4. 4. 3. 0. 0. 1. 1. 0.]\n",
      " [3. 2. 4. 2. 2. 4. 0. 1. 1. 1. 0.]\n",
      " [3. 2. 4. 4. 3. 3. 0. 1. 0. 0. 0.]\n",
      " [3. 1. 4. 3. 4. 4. 0. 1. 1. 0. 0.]\n",
      " [2. 1. 2. 3. 3. 2. 0. 1. 1. 1. 0.]\n",
      " [3. 1. 4. 2. 2. 4. 0. 1. 1. 0. 0.]\n",
      " [5. 2. 4. 3. 3. 1. 0. 1. 1. 0. 0.]\n",
      " [3. 1. 3. 3. 4. 4. 0. 1. 0. 1. 0.]\n",
      " [2. 2. 3. 2. 2. 2. 0. 1. 1. 1. 0.]\n",
      " [2. 1. 5. 3. 4. 4. 0. 1. 1. 1. 0.]\n",
      " [5. 2. 3. 3. 3. 2. 0. 1. 0. 0. 0.]\n",
      " [2. 2. 4. 4. 4. 4. 0. 1. 1. 1. 0.]\n",
      " [2. 1. 5. 1. 2. 4. 0. 1. 0. 0. 0.]\n",
      " [4. 1. 3. 3. 3. 2. 0. 1. 0. 0. 0.]\n",
      " [3. 1. 3. 5. 5. 4. 0. 1. 1. 1. 1.]\n",
      " [2. 1. 3. 2. 5. 1. 1. 0. 0. 1. 0.]\n",
      " [3. 1. 3. 3. 3. 2. 0. 1. 1. 1. 0.]\n",
      " [3. 1. 4. 3. 3. 4. 0. 0. 0. 1. 0.]\n",
      " [3. 2. 3. 5. 5. 5. 0. 0. 1. 1. 0.]\n",
      " [3. 2. 4. 3. 3. 3. 0. 0. 0. 1. 1.]\n",
      " [3. 1. 3. 3. 3. 4. 0. 0. 1. 1. 0.]\n",
      " [3. 1. 4. 2. 4. 4. 0. 1. 1. 0. 0.]\n",
      " [5. 1. 4. 3. 4. 4. 0. 0. 0. 1. 0.]\n",
      " [3. 1. 4. 3. 3. 4. 0. 0. 1. 1. 0.]\n",
      " [3. 1. 5. 3. 3. 4. 0. 1. 1. 1. 0.]\n",
      " [3. 2. 4. 3. 3. 5. 0. 1. 0. 1. 0.]\n",
      " [3. 1. 5. 3. 3. 4. 0. 1. 1. 1. 0.]\n",
      " [3. 1. 3. 3. 4. 2. 0. 1. 1. 1. 0.]\n",
      " [5. 1. 4. 3. 4. 4. 0. 0. 0. 1. 0.]\n",
      " [3. 1. 3. 4. 4. 3. 0. 1. 0. 0. 0.]\n",
      " [3. 1. 3. 4. 4. 4. 0. 0. 1. 1. 0.]\n",
      " [5. 1. 3. 3. 3. 2. 0. 1. 0. 0. 0.]\n",
      " [3. 2. 3. 3. 3. 1. 0. 1. 0. 0. 0.]\n",
      " [5. 1. 4. 4. 4. 4. 0. 0. 0. 0. 1.]]\n",
      "Number of support vectors for each class =  [22 12]\n",
      "Coefficients of the support vector in the decision function =  [[6.23091649e-04 7.23180296e-05 1.05248610e-04 1.74730044e-06\n",
      "  3.49646417e-03 2.73587073e-05 1.65788618e-04 6.55011915e-05\n",
      "  1.40798958e-03 5.70278070e-05 4.72913749e-04 1.80699028e-05\n",
      "  8.75509317e-05 6.85515119e-03 8.67965549e-06 6.61771715e-04\n",
      "  6.89774126e-04 3.37093957e-04 6.32924900e-06 7.71541709e-06\n",
      "  1.87949815e-03 7.26216922e-06 9.48747328e-06 5.89341633e-04\n",
      "  1.19032281e-05 7.85942243e-05 4.20722703e-05 1.32453766e-03\n",
      "  4.37807285e-07 2.14006978e-04 5.40811742e-04 1.93912109e-03\n",
      "  1.22950572e-02 8.97453105e-06]]\n"
     ]
    }
   ],
   "source": [
    "print('Indices of support vectors = ', clf.support_)\n",
    "print('Support vectors = ', clf.support_vectors_)\n",
    "print('Number of support vectors for each class = ', clf.n_support_)\n",
    "print('Coefficients of the support vector in the decision function = ', np.abs(clf.dual_coef_))"
   ]
  },
  {
   "cell_type": "code",
   "execution_count": 207,
   "metadata": {},
   "outputs": [
    {
     "data": {
      "image/png": "[encoded data removed]",
      "text/plain": [
       "<Figure size 432x288 with 2 Axes>"
      ]
     },
     "metadata": {
      "needs_background": "light"
     },
     "output_type": "display_data"
    }
   ],
   "source": [
    "import seaborn as sn\n",
    "data = np.array(x)\n",
    "\n",
    "covMatrix = np.cov(data,bias=True)\n",
    "sn.heatmap(covMatrix, annot=True, fmt='g')\n",
    "plt.show()"
   ]
  },
  {
   "cell_type": "code",
   "execution_count": 138,
   "metadata": {},
   "outputs": [
    {
     "data": {
      "text/plain": [
       "array([[3, 1, 4, 2, 2, 3, 0, 1, 0, 0, 0],\n",
       "       [2, 1, 3, 4, 3, 5, 0, 1, 1, 1, 0],\n",
       "       [3, 2, 1, 1, 2, 5, 0, 1, 0, 0, 0],\n",
       "       [3, 1, 4, 3, 3, 2, 0, 0, 1, 0, 1],\n",
       "       [3, 1, 3, 3, 3, 4, 0, 0, 1, 1, 0],\n",
       "       [3, 1, 4, 4, 4, 4, 0, 0, 1, 1, 0],\n",
       "       [3, 1, 4, 3, 2, 2, 0, 0, 1, 1, 0],\n",
       "       [3, 2, 4, 4, 4, 3, 0, 1, 1, 1, 0],\n",
       "       [2, 2, 3, 3, 3, 3, 0, 1, 0, 1, 0],\n",
       "       [2, 1, 3, 4, 3, 3, 0, 1, 1, 0, 0],\n",
       "       [3, 1, 5, 3, 3, 4, 0, 1, 1, 1, 0],\n",
       "       [5, 2, 3, 4, 4, 3, 0, 1, 0, 0, 0],\n",
       "       [4, 1, 3, 4, 4, 3, 0, 1, 0, 1, 0],\n",
       "       [2, 1, 3, 4, 4, 2, 0, 1, 0, 0, 0],\n",
       "       [3, 2, 3, 4, 5, 4, 0, 1, 1, 1, 1],\n",
       "       [2, 2, 3, 2, 2, 3, 0, 1, 0, 0, 0],\n",
       "       [3, 1, 3, 3, 3, 3, 0, 1, 1, 0, 0],\n",
       "       [2, 2, 4, 2, 1, 1, 1, 0, 0, 0, 0],\n",
       "       [4, 2, 3, 4, 5, 3, 0, 1, 1, 1, 0],\n",
       "       [3, 1, 3, 4, 3, 3, 0, 1, 1, 1, 0],\n",
       "       [3, 1, 4, 3, 4, 4, 0, 1, 1, 0, 0],\n",
       "       [2, 1, 3, 2, 3, 2, 0, 1, 1, 1, 0]], dtype=int64)"
      ]
     },
     "execution_count": 138,
     "metadata": {},
     "output_type": "execute_result"
    }
   ],
   "source": [
    "X_test"
   ]
  },
  {
   "cell_type": "code",
   "execution_count": 139,
   "metadata": {},
   "outputs": [
    {
     "name": "stdout",
     "output_type": "stream",
     "text": [
      "    Respondents  Age   Gender  Education  Satisfaction   Likely to Recommend  \\\n",
      "2             3     3       1          3              4                    4   \n",
      "9            10     3       1          3              4                    4   \n",
      "10           11     2       1          3              4                    3   \n",
      "13           14     3       1          3              4                    5   \n",
      "19           20     3       1          4              5                    5   \n",
      "23           24     3       1          4              3                    3   \n",
      "24           25     3       1          4              5                    5   \n",
      "31           32     2       1          3              5                    4   \n",
      "34           35     3       1          4              3                    3   \n",
      "43           44     3       1          5              3                    3   \n",
      "54           55     3       1          4              4                    4   \n",
      "67           68     5       1          3              4                    5   \n",
      "68           69     5       1          4              3                    4   \n",
      "69           70     3       1          5              3                    3   \n",
      "70           71     3       1          5              3                    3   \n",
      "73           74     5       1          4              4                    4   \n",
      "77           78     5       1          3              3                    3   \n",
      "81           82     5       1          4              3                    4   \n",
      "83           84     3       1          3              3                    4   \n",
      "94           95     2       1          2              4                    4   \n",
      "\n",
      "    Effect(Better or Worse)  No benefits  Social Distancing  Home Setting  \\\n",
      "2                         3            0                  1             0   \n",
      "9                         4            0                  0             1   \n",
      "10                        5            0                  1             1   \n",
      "13                        4            0                  0             1   \n",
      "19                        5            0                  0             1   \n",
      "23                        2            0                  0             1   \n",
      "24                        4            0                  0             0   \n",
      "31                        2            0                  1             1   \n",
      "34                        4            0                  0             1   \n",
      "43                        4            0                  1             1   \n",
      "54                        4            0                  0             1   \n",
      "67                        3            0                  1             0   \n",
      "68                        4            0                  0             0   \n",
      "69                        4            0                  1             1   \n",
      "70                        4            0                  1             1   \n",
      "73                        4            0                  0             0   \n",
      "77                        2            0                  1             0   \n",
      "81                        4            0                  0             0   \n",
      "83                        2            0                  1             1   \n",
      "94                        5            0                  0             1   \n",
      "\n",
      "    Time efficient  One on One attention  Preference  \n",
      "2                0                     0           1  \n",
      "9                1                     0           1  \n",
      "10               1                     0           1  \n",
      "13               0                     0           1  \n",
      "19               1                     1           1  \n",
      "23               0                     1           1  \n",
      "24               0                     1           1  \n",
      "31               1                     0           1  \n",
      "34               1                     0           1  \n",
      "43               1                     0           1  \n",
      "54               1                     0           1  \n",
      "67               0                     0           1  \n",
      "68               1                     0           1  \n",
      "69               1                     0           1  \n",
      "70               1                     0           1  \n",
      "73               0                     1           1  \n",
      "77               0                     0           1  \n",
      "81               1                     0           1  \n",
      "83               1                     0           1  \n",
      "94               1                     1           1  \n"
     ]
    }
   ],
   "source": [
    "select_male = dataset.loc[dataset['Gender'] == 1]\n",
    "select_male = select_male[select_male['Preference'] == 1]\n",
    "print(select_male)"
   ]
  },
  {
   "cell_type": "code",
   "execution_count": 140,
   "metadata": {},
   "outputs": [
    {
     "name": "stdout",
     "output_type": "stream",
     "text": [
      "[[3 1 3 4 4 3 0 1 0 0 0]\n",
      " [3 1 3 4 4 4 0 0 1 1 0]\n",
      " [2 1 3 4 3 5 0 1 1 1 0]\n",
      " [3 1 3 4 5 4 0 0 1 0 0]\n",
      " [3 1 4 5 5 5 0 0 1 1 1]\n",
      " [3 1 4 3 3 2 0 0 1 0 1]\n",
      " [3 1 4 5 5 4 0 0 0 0 1]\n",
      " [2 1 3 5 4 2 0 1 1 1 0]\n",
      " [3 1 4 3 3 4 0 0 1 1 0]\n",
      " [3 1 5 3 3 4 0 1 1 1 0]\n",
      " [3 1 4 4 4 4 0 0 1 1 0]\n",
      " [5 1 3 4 5 3 0 1 0 0 0]\n",
      " [5 1 4 3 4 4 0 0 0 1 0]\n",
      " [3 1 5 3 3 4 0 1 1 1 0]\n",
      " [3 1 5 3 3 4 0 1 1 1 0]\n",
      " [5 1 4 4 4 4 0 0 0 0 1]\n",
      " [5 1 3 3 3 2 0 1 0 0 0]\n",
      " [5 1 4 3 4 4 0 0 0 1 0]\n",
      " [3 1 3 3 4 2 0 1 1 1 0]\n",
      " [2 1 2 4 4 5 0 0 1 1 1]]\n"
     ]
    }
   ],
   "source": [
    "x_male = select_male.iloc[:,1:12]\n",
    "x_male = np.asarray(x_male)\n",
    "print(x_male)"
   ]
  },
  {
   "cell_type": "code",
   "execution_count": 141,
   "metadata": {},
   "outputs": [
    {
     "data": {
      "text/plain": [
       "array([1, 1, 1, 1, 1, 0, 1, 1, 1, 1, 1, 1, 1, 1, 1, 1, 1, 1, 1, 1],\n",
       "      dtype=int64)"
      ]
     },
     "execution_count": 141,
     "metadata": {},
     "output_type": "execute_result"
    }
   ],
   "source": [
    "pred_male = clf.predict(x_male)\n",
    "pred_male"
   ]
  },
  {
   "cell_type": "code",
   "execution_count": 142,
   "metadata": {},
   "outputs": [
    {
     "name": "stdout",
     "output_type": "stream",
     "text": [
      "0.37460234212114707\n"
     ]
    }
   ],
   "source": [
    "import statistics\n",
    "probs_male = clf.predict_proba(x_male)[:,1]\n",
    "print(statistics.mean(probs_male))"
   ]
  },
  {
   "cell_type": "code",
   "execution_count": 143,
   "metadata": {},
   "outputs": [
    {
     "data": {
      "text/plain": [
       "array([1, 1, 1, 1, 1, 1, 1], dtype=int64)"
      ]
     },
     "execution_count": 143,
     "metadata": {},
     "output_type": "execute_result"
    }
   ],
   "source": [
    "select_female = dataset.loc[dataset['Gender'] == 2]\n",
    "select_female = select_female[select_female['Preference'] == 1]\n",
    "x_female = select_female.iloc[:,1:12]\n",
    "x_female = np.asarray(x_female)\n",
    "pred_female = clf.predict(x_female)\n",
    "pred_female"
   ]
  },
  {
   "cell_type": "code",
   "execution_count": 144,
   "metadata": {},
   "outputs": [
    {
     "name": "stdout",
     "output_type": "stream",
     "text": [
      "[0.74689336 0.24295936 0.3209951  0.26070149 0.24296423 0.38686086\n",
      " 0.38686086]\n"
     ]
    }
   ],
   "source": [
    "probs_female = clf.predict_proba(x_female)[:,1]\n",
    "print(probs_female)"
   ]
  },
  {
   "cell_type": "code",
   "execution_count": 145,
   "metadata": {},
   "outputs": [
    {
     "data": {
      "text/html": [
       "<div>\n",
       "<style scoped>\n",
       "    .dataframe tbody tr th:only-of-type {\n",
       "        vertical-align: middle;\n",
       "    }\n",
       "\n",
       "    .dataframe tbody tr th {\n",
       "        vertical-align: top;\n",
       "    }\n",
       "\n",
       "    .dataframe thead th {\n",
       "        text-align: right;\n",
       "    }\n",
       "</style>\n",
       "<table border=\"1\" class=\"dataframe\">\n",
       "  <thead>\n",
       "    <tr style=\"text-align: right;\">\n",
       "      <th></th>\n",
       "      <th>Age</th>\n",
       "      <th>Gender</th>\n",
       "      <th>Education</th>\n",
       "      <th>Probability</th>\n",
       "    </tr>\n",
       "  </thead>\n",
       "  <tbody>\n",
       "    <tr>\n",
       "      <th>2</th>\n",
       "      <td>3</td>\n",
       "      <td>1</td>\n",
       "      <td>3</td>\n",
       "      <td>0.242962</td>\n",
       "    </tr>\n",
       "    <tr>\n",
       "      <th>9</th>\n",
       "      <td>3</td>\n",
       "      <td>1</td>\n",
       "      <td>3</td>\n",
       "      <td>0.242963</td>\n",
       "    </tr>\n",
       "    <tr>\n",
       "      <th>10</th>\n",
       "      <td>2</td>\n",
       "      <td>1</td>\n",
       "      <td>3</td>\n",
       "      <td>0.265175</td>\n",
       "    </tr>\n",
       "    <tr>\n",
       "      <th>13</th>\n",
       "      <td>3</td>\n",
       "      <td>1</td>\n",
       "      <td>3</td>\n",
       "      <td>0.622546</td>\n",
       "    </tr>\n",
       "    <tr>\n",
       "      <th>19</th>\n",
       "      <td>3</td>\n",
       "      <td>1</td>\n",
       "      <td>4</td>\n",
       "      <td>0.997117</td>\n",
       "    </tr>\n",
       "    <tr>\n",
       "      <th>23</th>\n",
       "      <td>3</td>\n",
       "      <td>1</td>\n",
       "      <td>4</td>\n",
       "      <td>0.217140</td>\n",
       "    </tr>\n",
       "    <tr>\n",
       "      <th>24</th>\n",
       "      <td>3</td>\n",
       "      <td>1</td>\n",
       "      <td>4</td>\n",
       "      <td>0.925154</td>\n",
       "    </tr>\n",
       "    <tr>\n",
       "      <th>31</th>\n",
       "      <td>2</td>\n",
       "      <td>1</td>\n",
       "      <td>3</td>\n",
       "      <td>0.256200</td>\n",
       "    </tr>\n",
       "    <tr>\n",
       "      <th>34</th>\n",
       "      <td>3</td>\n",
       "      <td>1</td>\n",
       "      <td>4</td>\n",
       "      <td>0.242960</td>\n",
       "    </tr>\n",
       "    <tr>\n",
       "      <th>43</th>\n",
       "      <td>3</td>\n",
       "      <td>1</td>\n",
       "      <td>5</td>\n",
       "      <td>0.242955</td>\n",
       "    </tr>\n",
       "    <tr>\n",
       "      <th>54</th>\n",
       "      <td>3</td>\n",
       "      <td>1</td>\n",
       "      <td>4</td>\n",
       "      <td>0.293124</td>\n",
       "    </tr>\n",
       "    <tr>\n",
       "      <th>67</th>\n",
       "      <td>5</td>\n",
       "      <td>1</td>\n",
       "      <td>3</td>\n",
       "      <td>0.959946</td>\n",
       "    </tr>\n",
       "    <tr>\n",
       "      <th>68</th>\n",
       "      <td>5</td>\n",
       "      <td>1</td>\n",
       "      <td>4</td>\n",
       "      <td>0.242956</td>\n",
       "    </tr>\n",
       "    <tr>\n",
       "      <th>69</th>\n",
       "      <td>3</td>\n",
       "      <td>1</td>\n",
       "      <td>5</td>\n",
       "      <td>0.242955</td>\n",
       "    </tr>\n",
       "    <tr>\n",
       "      <th>70</th>\n",
       "      <td>3</td>\n",
       "      <td>1</td>\n",
       "      <td>5</td>\n",
       "      <td>0.242955</td>\n",
       "    </tr>\n",
       "    <tr>\n",
       "      <th>73</th>\n",
       "      <td>5</td>\n",
       "      <td>1</td>\n",
       "      <td>4</td>\n",
       "      <td>0.242950</td>\n",
       "    </tr>\n",
       "    <tr>\n",
       "      <th>77</th>\n",
       "      <td>5</td>\n",
       "      <td>1</td>\n",
       "      <td>3</td>\n",
       "      <td>0.242963</td>\n",
       "    </tr>\n",
       "    <tr>\n",
       "      <th>81</th>\n",
       "      <td>5</td>\n",
       "      <td>1</td>\n",
       "      <td>4</td>\n",
       "      <td>0.242956</td>\n",
       "    </tr>\n",
       "    <tr>\n",
       "      <th>83</th>\n",
       "      <td>3</td>\n",
       "      <td>1</td>\n",
       "      <td>3</td>\n",
       "      <td>0.242958</td>\n",
       "    </tr>\n",
       "    <tr>\n",
       "      <th>94</th>\n",
       "      <td>2</td>\n",
       "      <td>1</td>\n",
       "      <td>2</td>\n",
       "      <td>0.283111</td>\n",
       "    </tr>\n",
       "  </tbody>\n",
       "</table>\n",
       "</div>"
      ],
      "text/plain": [
       "    Age  Gender  Education  Probability\n",
       "2     3       1          3     0.242962\n",
       "9     3       1          3     0.242963\n",
       "10    2       1          3     0.265175\n",
       "13    3       1          3     0.622546\n",
       "19    3       1          4     0.997117\n",
       "23    3       1          4     0.217140\n",
       "24    3       1          4     0.925154\n",
       "31    2       1          3     0.256200\n",
       "34    3       1          4     0.242960\n",
       "43    3       1          5     0.242955\n",
       "54    3       1          4     0.293124\n",
       "67    5       1          3     0.959946\n",
       "68    5       1          4     0.242956\n",
       "69    3       1          5     0.242955\n",
       "70    3       1          5     0.242955\n",
       "73    5       1          4     0.242950\n",
       "77    5       1          3     0.242963\n",
       "81    5       1          4     0.242956\n",
       "83    3       1          3     0.242958\n",
       "94    2       1          2     0.283111"
      ]
     },
     "execution_count": 145,
     "metadata": {},
     "output_type": "execute_result"
    }
   ],
   "source": [
    "final_result = pd.DataFrame({'Age': select_male.iloc[:,1], 'Gender': select_male.Gender,'Education': select_male.Education, 'Probability': probs_male})\n",
    "final_result"
   ]
  },
  {
   "cell_type": "code",
   "execution_count": 146,
   "metadata": {},
   "outputs": [
    {
     "data": {
      "text/html": [
       "<div>\n",
       "<style scoped>\n",
       "    .dataframe tbody tr th:only-of-type {\n",
       "        vertical-align: middle;\n",
       "    }\n",
       "\n",
       "    .dataframe tbody tr th {\n",
       "        vertical-align: top;\n",
       "    }\n",
       "\n",
       "    .dataframe thead th {\n",
       "        text-align: right;\n",
       "    }\n",
       "</style>\n",
       "<table border=\"1\" class=\"dataframe\">\n",
       "  <thead>\n",
       "    <tr style=\"text-align: right;\">\n",
       "      <th></th>\n",
       "      <th>Age</th>\n",
       "      <th>Gender</th>\n",
       "      <th>Education</th>\n",
       "      <th>Probability</th>\n",
       "    </tr>\n",
       "  </thead>\n",
       "  <tbody>\n",
       "    <tr>\n",
       "      <th>2</th>\n",
       "      <td>25-34</td>\n",
       "      <td>1</td>\n",
       "      <td>3</td>\n",
       "      <td>0.242962</td>\n",
       "    </tr>\n",
       "    <tr>\n",
       "      <th>9</th>\n",
       "      <td>25-34</td>\n",
       "      <td>1</td>\n",
       "      <td>3</td>\n",
       "      <td>0.242963</td>\n",
       "    </tr>\n",
       "    <tr>\n",
       "      <th>10</th>\n",
       "      <td>18-24</td>\n",
       "      <td>1</td>\n",
       "      <td>3</td>\n",
       "      <td>0.265175</td>\n",
       "    </tr>\n",
       "    <tr>\n",
       "      <th>13</th>\n",
       "      <td>25-34</td>\n",
       "      <td>1</td>\n",
       "      <td>3</td>\n",
       "      <td>0.622546</td>\n",
       "    </tr>\n",
       "    <tr>\n",
       "      <th>19</th>\n",
       "      <td>25-34</td>\n",
       "      <td>1</td>\n",
       "      <td>4</td>\n",
       "      <td>0.997117</td>\n",
       "    </tr>\n",
       "    <tr>\n",
       "      <th>23</th>\n",
       "      <td>25-34</td>\n",
       "      <td>1</td>\n",
       "      <td>4</td>\n",
       "      <td>0.217140</td>\n",
       "    </tr>\n",
       "    <tr>\n",
       "      <th>24</th>\n",
       "      <td>25-34</td>\n",
       "      <td>1</td>\n",
       "      <td>4</td>\n",
       "      <td>0.925154</td>\n",
       "    </tr>\n",
       "    <tr>\n",
       "      <th>31</th>\n",
       "      <td>18-24</td>\n",
       "      <td>1</td>\n",
       "      <td>3</td>\n",
       "      <td>0.256200</td>\n",
       "    </tr>\n",
       "    <tr>\n",
       "      <th>34</th>\n",
       "      <td>25-34</td>\n",
       "      <td>1</td>\n",
       "      <td>4</td>\n",
       "      <td>0.242960</td>\n",
       "    </tr>\n",
       "    <tr>\n",
       "      <th>43</th>\n",
       "      <td>25-34</td>\n",
       "      <td>1</td>\n",
       "      <td>5</td>\n",
       "      <td>0.242955</td>\n",
       "    </tr>\n",
       "    <tr>\n",
       "      <th>54</th>\n",
       "      <td>25-34</td>\n",
       "      <td>1</td>\n",
       "      <td>4</td>\n",
       "      <td>0.293124</td>\n",
       "    </tr>\n",
       "    <tr>\n",
       "      <th>67</th>\n",
       "      <td>Above 45</td>\n",
       "      <td>1</td>\n",
       "      <td>3</td>\n",
       "      <td>0.959946</td>\n",
       "    </tr>\n",
       "    <tr>\n",
       "      <th>68</th>\n",
       "      <td>Above 45</td>\n",
       "      <td>1</td>\n",
       "      <td>4</td>\n",
       "      <td>0.242956</td>\n",
       "    </tr>\n",
       "    <tr>\n",
       "      <th>69</th>\n",
       "      <td>25-34</td>\n",
       "      <td>1</td>\n",
       "      <td>5</td>\n",
       "      <td>0.242955</td>\n",
       "    </tr>\n",
       "    <tr>\n",
       "      <th>70</th>\n",
       "      <td>25-34</td>\n",
       "      <td>1</td>\n",
       "      <td>5</td>\n",
       "      <td>0.242955</td>\n",
       "    </tr>\n",
       "    <tr>\n",
       "      <th>73</th>\n",
       "      <td>Above 45</td>\n",
       "      <td>1</td>\n",
       "      <td>4</td>\n",
       "      <td>0.242950</td>\n",
       "    </tr>\n",
       "    <tr>\n",
       "      <th>77</th>\n",
       "      <td>Above 45</td>\n",
       "      <td>1</td>\n",
       "      <td>3</td>\n",
       "      <td>0.242963</td>\n",
       "    </tr>\n",
       "    <tr>\n",
       "      <th>81</th>\n",
       "      <td>Above 45</td>\n",
       "      <td>1</td>\n",
       "      <td>4</td>\n",
       "      <td>0.242956</td>\n",
       "    </tr>\n",
       "    <tr>\n",
       "      <th>83</th>\n",
       "      <td>25-34</td>\n",
       "      <td>1</td>\n",
       "      <td>3</td>\n",
       "      <td>0.242958</td>\n",
       "    </tr>\n",
       "    <tr>\n",
       "      <th>94</th>\n",
       "      <td>18-24</td>\n",
       "      <td>1</td>\n",
       "      <td>2</td>\n",
       "      <td>0.283111</td>\n",
       "    </tr>\n",
       "  </tbody>\n",
       "</table>\n",
       "</div>"
      ],
      "text/plain": [
       "         Age  Gender  Education  Probability\n",
       "2      25-34       1          3     0.242962\n",
       "9      25-34       1          3     0.242963\n",
       "10     18-24       1          3     0.265175\n",
       "13     25-34       1          3     0.622546\n",
       "19     25-34       1          4     0.997117\n",
       "23     25-34       1          4     0.217140\n",
       "24     25-34       1          4     0.925154\n",
       "31     18-24       1          3     0.256200\n",
       "34     25-34       1          4     0.242960\n",
       "43     25-34       1          5     0.242955\n",
       "54     25-34       1          4     0.293124\n",
       "67  Above 45       1          3     0.959946\n",
       "68  Above 45       1          4     0.242956\n",
       "69     25-34       1          5     0.242955\n",
       "70     25-34       1          5     0.242955\n",
       "73  Above 45       1          4     0.242950\n",
       "77  Above 45       1          3     0.242963\n",
       "81  Above 45       1          4     0.242956\n",
       "83     25-34       1          3     0.242958\n",
       "94     18-24       1          2     0.283111"
      ]
     },
     "execution_count": 146,
     "metadata": {},
     "output_type": "execute_result"
    }
   ],
   "source": [
    "cleanup_nums = {\"Age\": {3: \"25-34\", 2: \"18-24\",5 : \"Above 45\"}}\n",
    "final_result.replace(cleanup_nums, inplace=True)\n",
    "#final_result = dataset.rename(columns = {'Class (In-Classroom/Online)': 'Class'}, inplace = False)\n",
    "final_result"
   ]
  },
  {
   "cell_type": "code",
   "execution_count": 147,
   "metadata": {},
   "outputs": [
    {
     "data": {
      "text/html": [
       "<div>\n",
       "<style scoped>\n",
       "    .dataframe tbody tr th:only-of-type {\n",
       "        vertical-align: middle;\n",
       "    }\n",
       "\n",
       "    .dataframe tbody tr th {\n",
       "        vertical-align: top;\n",
       "    }\n",
       "\n",
       "    .dataframe thead th {\n",
       "        text-align: right;\n",
       "    }\n",
       "</style>\n",
       "<table border=\"1\" class=\"dataframe\">\n",
       "  <thead>\n",
       "    <tr style=\"text-align: right;\">\n",
       "      <th></th>\n",
       "      <th>Age</th>\n",
       "      <th>Gender</th>\n",
       "      <th>Education</th>\n",
       "      <th>Probability</th>\n",
       "    </tr>\n",
       "  </thead>\n",
       "  <tbody>\n",
       "    <tr>\n",
       "      <th>2</th>\n",
       "      <td>25-34</td>\n",
       "      <td>Male</td>\n",
       "      <td>Bachelor's Degree</td>\n",
       "      <td>0.242962</td>\n",
       "    </tr>\n",
       "    <tr>\n",
       "      <th>9</th>\n",
       "      <td>25-34</td>\n",
       "      <td>Male</td>\n",
       "      <td>Bachelor's Degree</td>\n",
       "      <td>0.242963</td>\n",
       "    </tr>\n",
       "    <tr>\n",
       "      <th>10</th>\n",
       "      <td>18-24</td>\n",
       "      <td>Male</td>\n",
       "      <td>Bachelor's Degree</td>\n",
       "      <td>0.265175</td>\n",
       "    </tr>\n",
       "    <tr>\n",
       "      <th>13</th>\n",
       "      <td>25-34</td>\n",
       "      <td>Male</td>\n",
       "      <td>Bachelor's Degree</td>\n",
       "      <td>0.622546</td>\n",
       "    </tr>\n",
       "    <tr>\n",
       "      <th>19</th>\n",
       "      <td>25-34</td>\n",
       "      <td>Male</td>\n",
       "      <td>Master's Degree</td>\n",
       "      <td>0.997117</td>\n",
       "    </tr>\n",
       "    <tr>\n",
       "      <th>23</th>\n",
       "      <td>25-34</td>\n",
       "      <td>Male</td>\n",
       "      <td>Master's Degree</td>\n",
       "      <td>0.217140</td>\n",
       "    </tr>\n",
       "    <tr>\n",
       "      <th>24</th>\n",
       "      <td>25-34</td>\n",
       "      <td>Male</td>\n",
       "      <td>Master's Degree</td>\n",
       "      <td>0.925154</td>\n",
       "    </tr>\n",
       "    <tr>\n",
       "      <th>31</th>\n",
       "      <td>18-24</td>\n",
       "      <td>Male</td>\n",
       "      <td>Bachelor's Degree</td>\n",
       "      <td>0.256200</td>\n",
       "    </tr>\n",
       "    <tr>\n",
       "      <th>34</th>\n",
       "      <td>25-34</td>\n",
       "      <td>Male</td>\n",
       "      <td>Master's Degree</td>\n",
       "      <td>0.242960</td>\n",
       "    </tr>\n",
       "    <tr>\n",
       "      <th>43</th>\n",
       "      <td>25-34</td>\n",
       "      <td>Male</td>\n",
       "      <td>Doctorate</td>\n",
       "      <td>0.242955</td>\n",
       "    </tr>\n",
       "    <tr>\n",
       "      <th>54</th>\n",
       "      <td>25-34</td>\n",
       "      <td>Male</td>\n",
       "      <td>Master's Degree</td>\n",
       "      <td>0.293124</td>\n",
       "    </tr>\n",
       "    <tr>\n",
       "      <th>67</th>\n",
       "      <td>Above 45</td>\n",
       "      <td>Male</td>\n",
       "      <td>Bachelor's Degree</td>\n",
       "      <td>0.959946</td>\n",
       "    </tr>\n",
       "    <tr>\n",
       "      <th>68</th>\n",
       "      <td>Above 45</td>\n",
       "      <td>Male</td>\n",
       "      <td>Master's Degree</td>\n",
       "      <td>0.242956</td>\n",
       "    </tr>\n",
       "    <tr>\n",
       "      <th>69</th>\n",
       "      <td>25-34</td>\n",
       "      <td>Male</td>\n",
       "      <td>Doctorate</td>\n",
       "      <td>0.242955</td>\n",
       "    </tr>\n",
       "    <tr>\n",
       "      <th>70</th>\n",
       "      <td>25-34</td>\n",
       "      <td>Male</td>\n",
       "      <td>Doctorate</td>\n",
       "      <td>0.242955</td>\n",
       "    </tr>\n",
       "    <tr>\n",
       "      <th>73</th>\n",
       "      <td>Above 45</td>\n",
       "      <td>Male</td>\n",
       "      <td>Master's Degree</td>\n",
       "      <td>0.242950</td>\n",
       "    </tr>\n",
       "    <tr>\n",
       "      <th>77</th>\n",
       "      <td>Above 45</td>\n",
       "      <td>Male</td>\n",
       "      <td>Bachelor's Degree</td>\n",
       "      <td>0.242963</td>\n",
       "    </tr>\n",
       "    <tr>\n",
       "      <th>81</th>\n",
       "      <td>Above 45</td>\n",
       "      <td>Male</td>\n",
       "      <td>Master's Degree</td>\n",
       "      <td>0.242956</td>\n",
       "    </tr>\n",
       "    <tr>\n",
       "      <th>83</th>\n",
       "      <td>25-34</td>\n",
       "      <td>Male</td>\n",
       "      <td>Bachelor's Degree</td>\n",
       "      <td>0.242958</td>\n",
       "    </tr>\n",
       "    <tr>\n",
       "      <th>94</th>\n",
       "      <td>18-24</td>\n",
       "      <td>Male</td>\n",
       "      <td>Passed School</td>\n",
       "      <td>0.283111</td>\n",
       "    </tr>\n",
       "  </tbody>\n",
       "</table>\n",
       "</div>"
      ],
      "text/plain": [
       "         Age Gender          Education  Probability\n",
       "2      25-34   Male  Bachelor's Degree     0.242962\n",
       "9      25-34   Male  Bachelor's Degree     0.242963\n",
       "10     18-24   Male  Bachelor's Degree     0.265175\n",
       "13     25-34   Male  Bachelor's Degree     0.622546\n",
       "19     25-34   Male    Master's Degree     0.997117\n",
       "23     25-34   Male    Master's Degree     0.217140\n",
       "24     25-34   Male    Master's Degree     0.925154\n",
       "31     18-24   Male  Bachelor's Degree     0.256200\n",
       "34     25-34   Male    Master's Degree     0.242960\n",
       "43     25-34   Male          Doctorate     0.242955\n",
       "54     25-34   Male    Master's Degree     0.293124\n",
       "67  Above 45   Male  Bachelor's Degree     0.959946\n",
       "68  Above 45   Male    Master's Degree     0.242956\n",
       "69     25-34   Male          Doctorate     0.242955\n",
       "70     25-34   Male          Doctorate     0.242955\n",
       "73  Above 45   Male    Master's Degree     0.242950\n",
       "77  Above 45   Male  Bachelor's Degree     0.242963\n",
       "81  Above 45   Male    Master's Degree     0.242956\n",
       "83     25-34   Male  Bachelor's Degree     0.242958\n",
       "94     18-24   Male      Passed School     0.283111"
      ]
     },
     "execution_count": 147,
     "metadata": {},
     "output_type": "execute_result"
    }
   ],
   "source": [
    "cleanup_nums = {\"Education\": {3: \"Bachelor's Degree\", 2: \"Passed School\",5 : \"Doctorate\", 4 : \"Master's Degree\"}}\n",
    "final_result.replace(cleanup_nums, inplace=True)\n",
    "#final_result = dataset.rename(columns = {'Class (In-Classroom/Online)': 'Class'}, inplace = False)\n",
    "final_result\n",
    "cleanup_nums = {\"Gender\": {1: \"Male\"}}\n",
    "final_result.replace(cleanup_nums, inplace=True)\n",
    "final_result"
   ]
  },
  {
   "cell_type": "code",
   "execution_count": 148,
   "metadata": {},
   "outputs": [
    {
     "data": {
      "text/html": [
       "<div>\n",
       "<style scoped>\n",
       "    .dataframe tbody tr th:only-of-type {\n",
       "        vertical-align: middle;\n",
       "    }\n",
       "\n",
       "    .dataframe tbody tr th {\n",
       "        vertical-align: top;\n",
       "    }\n",
       "\n",
       "    .dataframe thead th {\n",
       "        text-align: right;\n",
       "    }\n",
       "</style>\n",
       "<table border=\"1\" class=\"dataframe\">\n",
       "  <thead>\n",
       "    <tr style=\"text-align: right;\">\n",
       "      <th></th>\n",
       "      <th>Age</th>\n",
       "      <th>Gender</th>\n",
       "      <th>Education</th>\n",
       "      <th>Probability</th>\n",
       "    </tr>\n",
       "  </thead>\n",
       "  <tbody>\n",
       "    <tr>\n",
       "      <th>22</th>\n",
       "      <td>18-24</td>\n",
       "      <td>Female</td>\n",
       "      <td>Bachelor's Degree</td>\n",
       "      <td>0.746893</td>\n",
       "    </tr>\n",
       "    <tr>\n",
       "      <th>30</th>\n",
       "      <td>25-34</td>\n",
       "      <td>Female</td>\n",
       "      <td>Bachelor's Degree</td>\n",
       "      <td>0.242959</td>\n",
       "    </tr>\n",
       "    <tr>\n",
       "      <th>32</th>\n",
       "      <td>18-24</td>\n",
       "      <td>Female</td>\n",
       "      <td>Master's Degree</td>\n",
       "      <td>0.320995</td>\n",
       "    </tr>\n",
       "    <tr>\n",
       "      <th>40</th>\n",
       "      <td>25-34</td>\n",
       "      <td>Female</td>\n",
       "      <td>Bachelor's Degree</td>\n",
       "      <td>0.260701</td>\n",
       "    </tr>\n",
       "    <tr>\n",
       "      <th>55</th>\n",
       "      <td>25-34</td>\n",
       "      <td>Female</td>\n",
       "      <td>Master's Degree</td>\n",
       "      <td>0.242964</td>\n",
       "    </tr>\n",
       "    <tr>\n",
       "      <th>56</th>\n",
       "      <td>25-34</td>\n",
       "      <td>Female</td>\n",
       "      <td>Master's Degree</td>\n",
       "      <td>0.386861</td>\n",
       "    </tr>\n",
       "    <tr>\n",
       "      <th>87</th>\n",
       "      <td>25-34</td>\n",
       "      <td>Female</td>\n",
       "      <td>Master's Degree</td>\n",
       "      <td>0.386861</td>\n",
       "    </tr>\n",
       "  </tbody>\n",
       "</table>\n",
       "</div>"
      ],
      "text/plain": [
       "      Age  Gender          Education  Probability\n",
       "22  18-24  Female  Bachelor's Degree     0.746893\n",
       "30  25-34  Female  Bachelor's Degree     0.242959\n",
       "32  18-24  Female    Master's Degree     0.320995\n",
       "40  25-34  Female  Bachelor's Degree     0.260701\n",
       "55  25-34  Female    Master's Degree     0.242964\n",
       "56  25-34  Female    Master's Degree     0.386861\n",
       "87  25-34  Female    Master's Degree     0.386861"
      ]
     },
     "execution_count": 148,
     "metadata": {},
     "output_type": "execute_result"
    }
   ],
   "source": [
    "final_result = pd.DataFrame({'Age': select_female.iloc[:,1], 'Gender': select_female.Gender,'Education': select_female.Education, 'Probability': probs_female})\n",
    "cleanup_nums = {\"Education\": {3: \"Bachelor's Degree\", 2: \"Passed School\",5 : \"Doctorate\", 4 : \"Master's Degree\"}}\n",
    "final_result.replace(cleanup_nums, inplace=True)\n",
    "cleanup_nums = {\"Gender\": {2: \"Female\"}}\n",
    "final_result.replace(cleanup_nums, inplace=True)\n",
    "cleanup_nums = {\"Age\": {3: \"25-34\", 2: \"18-24\",5 : \"Above 45\"}}\n",
    "final_result.replace(cleanup_nums, inplace=True)\n",
    "final_result"
   ]
  },
  {
   "cell_type": "code",
   "execution_count": null,
   "metadata": {},
   "outputs": [],
   "source": []
  }
 ],
 "metadata": {
  "kernelspec": {
   "display_name": "Python 3",
   "language": "python",
   "name": "python3"
  },
  "language_info": {
   "codemirror_mode": {
    "name": "ipython",
    "version": 3
   },
   "file_extension": ".py",
   "mimetype": "text/x-python",
   "name": "python",
   "nbconvert_exporter": "python",
   "pygments_lexer": "ipython3",
   "version": "3.7.7"
  }
 },
 "nbformat": 4,
 "nbformat_minor": 4
}
